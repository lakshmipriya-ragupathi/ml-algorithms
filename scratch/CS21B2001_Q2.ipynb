{
  "nbformat": 4,
  "nbformat_minor": 0,
  "metadata": {
    "colab": {
      "provenance": [],
      "collapsed_sections": [
        "X98AN0Dmr8mM",
        "2-DgLepcpXvX",
        "pbrtOBE5sJkC",
        "UMhyvq66ruiy",
        "-eazNaCOt2GK",
        "keKnBbLV2ZIt"
      ]
    },
    "kernelspec": {
      "name": "python3",
      "display_name": "Python 3"
    },
    "language_info": {
      "name": "python"
    }
  },
  "cells": [
    {
      "cell_type": "markdown",
      "source": [
        "# Question 2"
      ],
      "metadata": {
        "id": "Rml0jXxozjk6"
      }
    },
    {
      "cell_type": "code",
      "source": [
        "import pandas as pd\n",
        "import numpy as np\n",
        "import matplotlib.pyplot as plt\n",
        "import seaborn as sns"
      ],
      "metadata": {
        "id": "Q0_t-hObB-su"
      },
      "execution_count": 3,
      "outputs": []
    },
    {
      "cell_type": "code",
      "source": [
        "from google.colab import drive\n",
        "drive.mount('/content/drive')"
      ],
      "metadata": {
        "colab": {
          "base_uri": "https://localhost:8080/"
        },
        "id": "GOuLwvxyCCub",
        "outputId": "6864c648-0569-40b8-ff7e-a583ad683d95"
      },
      "execution_count": 4,
      "outputs": [
        {
          "output_type": "stream",
          "name": "stdout",
          "text": [
            "Mounted at /content/drive\n"
          ]
        }
      ]
    },
    {
      "cell_type": "markdown",
      "source": [
        "### Loading dataset onto a dataframe"
      ],
      "metadata": {
        "id": "K4usIWMOBvq5"
      }
    },
    {
      "cell_type": "code",
      "execution_count": 5,
      "metadata": {
        "colab": {
          "base_uri": "https://localhost:8080/"
        },
        "id": "9ajFi8f7zgBm",
        "outputId": "c0f6a68e-70a7-4a28-e161-0f02a8262a29"
      },
      "outputs": [
        {
          "output_type": "stream",
          "name": "stdout",
          "text": [
            "   Hours_Studied  Hours_Watching_TV  Outdoor_Activity_Time  \\\n",
            "0              2                  4                      2   \n",
            "1              3                  3                      4   \n",
            "2              4                  2                      6   \n",
            "3              5                  1                      8   \n",
            "4              6                  0                     10   \n",
            "5              7                  0                     12   \n",
            "\n",
            "   Hours_Listening_to_Music  Water_Consumed  Test_Score  \n",
            "0                         2               5          65  \n",
            "1                         3               6          70  \n",
            "2                         4               5          75  \n",
            "3                         1               6          80  \n",
            "4                         5               4          85  \n",
            "5                         0               5          90  \n"
          ]
        }
      ],
      "source": [
        "rows = [\n",
        "    [2 , 4, 2, 2, 5, 65],\n",
        "    [3, 3, 4, 3, 6, 70],\n",
        "    [4, 2, 6, 4, 5, 75],\n",
        "    [5, 1, 8, 1, 6, 80],\n",
        "    [6, 0, 10, 5, 4, 85],\n",
        "    [7, 0, 12, 0, 5, 90]\n",
        "]\n",
        "df = pd.DataFrame(rows, columns = ['Hours_Studied', 'Hours_Watching_TV', 'Outdoor_Activity_Time', 'Hours_Listening_to_Music', 'Water_Consumed', 'Test_Score'])\n",
        "df.reset_index(drop=True)\n",
        "print(df)"
      ]
    },
    {
      "cell_type": "markdown",
      "source": [
        "### Correlation Coefficient Calculation"
      ],
      "metadata": {
        "id": "BHESWPMeGKYj"
      }
    },
    {
      "cell_type": "markdown",
      "source": [
        "ρX,Y = cov(X,Y) / σX * σY"
      ],
      "metadata": {
        "id": "LNPjpmGmHCg_"
      }
    },
    {
      "cell_type": "code",
      "source": [
        "\n",
        "#covariance of (X, Y)\n",
        "#for cov youre basically finding the diff between each variable's mean and sample and then multiply with each other\n",
        "counter = 0\n",
        "Hours_Studied_mean = 0\n",
        "Hours_Watching_TV_mean = 0\n",
        "Outdoor_Activity_Time_mean = 0\n",
        "Hours_Listening_to_Music_mean = 0\n",
        "Water_Consumed_mean = 0\n",
        "Test_Score_mean = 0\n",
        "\n",
        "for ind,row in df.iterrows():\n",
        "  counter = counter + 1\n",
        "  Hours_Studied_mean = Hours_Studied_mean + row.Hours_Studied\n",
        "  Hours_Watching_TV_mean = Hours_Watching_TV_mean + row.Hours_Watching_TV\n",
        "  Outdoor_Activity_Time_mean = Outdoor_Activity_Time_mean + row.Outdoor_Activity_Time\n",
        "  Hours_Listening_to_Music_mean = Hours_Listening_to_Music_mean + row.Hours_Listening_to_Music\n",
        "  Water_Consumed_mean = Water_Consumed_mean + row.Water_Consumed\n",
        "  Test_Score_mean = Test_Score_mean + row.Test_Score\n",
        "\n",
        "Hours_Studied_mean = Hours_Studied_mean / counter\n",
        "Hours_Watching_TV_mean = Hours_Watching_TV_mean / counter\n",
        "Outdoor_Activity_Time_mean = Outdoor_Activity_Time_mean / counter\n",
        "Hours_Listening_to_Music_mean = Hours_Listening_to_Music_mean / counter\n",
        "Water_Consumed_mean = Water_Consumed_mean / counter\n",
        "Test_Score_mean = Test_Score_mean / counter\n",
        "\n",
        "#Hours watching TV to Test Score\n",
        "#Outdoor Activity Time to Test Score\n",
        "#Hours Listening to Music to Test Score\n",
        "#Water Consumed\n",
        "HS_TS_cov = 0\n",
        "TV_TS_cov = 0\n",
        "OAT_TS_cov = 0\n",
        "LM_TS_cov = 0\n",
        "WC_TS_cov = 0\n",
        "\n",
        "HS_var = 0\n",
        "TV_var = 0\n",
        "OAT_var = 0\n",
        "LM_var = 0\n",
        "WC_var = 0\n",
        "TS_var = 0\n",
        "for ind,row in df.iterrows():\n",
        "  HS_TS_cov = HS_TS_cov + ((row.Hours_Studied - Hours_Studied_mean)*(row.Test_Score - Test_Score_mean))\n",
        "  TV_TS_cov = TV_TS_cov + ((row.Hours_Watching_TV - Hours_Watching_TV_mean)*(row.Test_Score - Test_Score_mean))\n",
        "  OAT_TS_cov = OAT_TS_cov + ((row.Outdoor_Activity_Time - Outdoor_Activity_Time_mean)*(row.Test_Score - Test_Score_mean))\n",
        "  LM_TS_cov = LM_TS_cov + ((row.Hours_Listening_to_Music - Hours_Listening_to_Music_mean)*(row.Test_Score - Test_Score_mean))\n",
        "  WC_TS_cov = WC_TS_cov + ((row.Water_Consumed - Water_Consumed_mean)*(row.Test_Score - Test_Score_mean))\n",
        "\n",
        "  HS_var = HS_var + ((row.Hours_Studied - Hours_Studied_mean)**2)\n",
        "  TV_var = TV_var + ((row.Hours_Watching_TV - Hours_Watching_TV_mean)**2)\n",
        "  OAT_var = OAT_var + ((row.Outdoor_Activity_Time - Outdoor_Activity_Time_mean)**2)\n",
        "  LM_var = LM_var + ((row.Hours_Listening_to_Music - Hours_Listening_to_Music_mean)**2)\n",
        "  WC_var = WC_var + ((row.Water_Consumed - Water_Consumed_mean)**2)\n",
        "  TS_var = TS_var + ((row.Test_Score - Test_Score_mean)**2)\n",
        "\n",
        "HS_TS_cor_coef = HS_TS_cov / np.sqrt(HS_var * TS_var)\n",
        "TV_TS_cor_coeff = TV_TS_cov / np.sqrt(TV_var * TS_var)\n",
        "OAT_TS_cor_coeff = OAT_TS_cov / np.sqrt(OAT_var * TS_var)\n",
        "LM_TS_cor_coeff = LM_TS_cov / np.sqrt(LM_var * TS_var)\n",
        "WC_TS_cor_coeff = WC_TS_cov / np.sqrt(WC_var * TS_var)"
      ],
      "metadata": {
        "id": "OT50NdjQF8HT"
      },
      "execution_count": 6,
      "outputs": []
    },
    {
      "cell_type": "markdown",
      "source": [
        "### Based on the provided data, calculate and interpret the correlation coefficient for each variable in relation to the test scores. Identify the variables that show a positive correlation, a negative correlation, and no significant correlation with the test scores.\n",
        "\n",
        "\n",
        "Explain why there might be a positive correlation between the \"Hours Studied\" variable and the test scores. Provide a brief discussion on how this information could be valuable for improving academic performance.\n",
        "\n",
        "\n",
        "Calculate and interpret the correlation coefficient between \"Hours Watching TV\" and test scores. Explain the implications of this correlation in terms of academic achievement and time management.\n",
        "\n",
        "\n",
        "Calculate and interpret the correlation coefficient between \"Hours Listening to Music\" and test scores. Discuss the potential impact of this correlation on concentration and study habits.\n",
        "\n",
        "\n",
        "Calculate and interpret the correlation coefficient between \"Water Consumed\" and test scores. Provide a potential explanation for the observed correlation and its relevance to cognitive function.\n",
        "\n",
        "\n",
        "Calculate and interpret the correlation coefficient between \"Outdoor Activity Time\" and test scores. Discuss how physical activity might influence academic performance.\n",
        "\n",
        "\n",
        "You are not allowed to use built-in functions to calculate correlation. Instead, you should perform the calculations manually, showing all steps clearly. Analyze the correlations between each variable and the test scores to draw meaningful insights from the data."
      ],
      "metadata": {
        "id": "iiDyIekgohEn"
      }
    },
    {
      "cell_type": "markdown",
      "source": [
        "####*Calculate and interpret the correlation coefficient between \"Hours Studied\" and test scores.*"
      ],
      "metadata": {
        "id": "X98AN0Dmr8mM"
      }
    },
    {
      "cell_type": "code",
      "source": [
        "print(\"Correlation Coefficient for Hours Studied and Test Scores : \")\n",
        "print(HS_TS_cor_coef)"
      ],
      "metadata": {
        "colab": {
          "base_uri": "https://localhost:8080/"
        },
        "id": "v5GZJPb5rTjh",
        "outputId": "9c1eafdf-060c-420b-af29-fc5fc353e276"
      },
      "execution_count": 7,
      "outputs": [
        {
          "output_type": "stream",
          "name": "stdout",
          "text": [
            "Correlation Coefficient for Hours Studied and Test Scores : \n",
            "1.0\n"
          ]
        }
      ]
    },
    {
      "cell_type": "markdown",
      "source": [
        "####*Explain why there might be a positive correlation between the \"Hours Studied\" variable and the test scores. Provide a brief discussion on how this information could be valuable for improving academic performance.*"
      ],
      "metadata": {
        "id": "2-DgLepcpXvX"
      }
    },
    {
      "cell_type": "markdown",
      "source": [
        "The correlation coefficient between Hours Studied and Test Scores is +1, implying theres a high positive correlation. High positive correlation means that as the number of \"Hours Studied\" increases, the \"Test Scores\" will also increase, i.e. Hours Studied has. great positive impact on Test Scores. Higher Test Scores mean that the student is performing well in academics. For a student with a poor academic performance - low test score, he/she could increase the number of hours they spend studying which can aid in improving their academic performance according to the correlation.\n",
        "\n",
        "The correlation between \"Hours Studied\" and \"Test Scores\" can guide students in adopting more effective study habits. It encourages them to allocate ample time for focused learning, adopt strategies that enhance retention, and engage in meaningful practice. Furthermore, it emphasizes the concept of incremental progress, where even small increases in study time can lead to noticeable improvements in performance over time.\n",
        "\n",
        "Hours Studied serves as a guiding principle for students aiming to enhance their performance, indicating that their investment in studying can yield substantial returns in terms of improved test scores and overall academic achievement."
      ],
      "metadata": {
        "id": "CtNyU4eltsIw"
      }
    },
    {
      "cell_type": "markdown",
      "source": [
        "####*Calculate and interpret the correlation coefficient between \"Hours Watching TV\" and test scores.*"
      ],
      "metadata": {
        "id": "pbrtOBE5sJkC"
      }
    },
    {
      "cell_type": "code",
      "source": [
        "print(\"Correlation Coefficient for Hours Watching TV and Test Scores : \")\n",
        "print(TV_TS_cor_coeff)"
      ],
      "metadata": {
        "colab": {
          "base_uri": "https://localhost:8080/"
        },
        "id": "PIHlp_Hirjqv",
        "outputId": "b0256e82-0d79-4fbd-cc3e-959b4bfc3080"
      },
      "execution_count": 8,
      "outputs": [
        {
          "output_type": "stream",
          "name": "stdout",
          "text": [
            "Correlation Coefficient for Hours Watching TV and Test Scores : \n",
            "-0.9819805060619656\n"
          ]
        }
      ]
    },
    {
      "cell_type": "markdown",
      "source": [
        "####*Explain the implications of this correlation between in terms of academic achievement and time management.*"
      ],
      "metadata": {
        "id": "UMhyvq66ruiy"
      }
    },
    {
      "cell_type": "markdown",
      "source": [
        "The correlation coefficient between Hours Studied and Test Scores is alomst -1, implying theres a high negative correlation. High negative correlation means that as the number of \"Hours Watching TV\" increases, the \"Test Scores\" will decrease, i.e. Hours Studied has a great negative impact on Test Scores. Higher Test Scores mean that the student is performing well in academics. For a student with a poor academic performance - low test score, he/she could decrease the number of hours they spend watching TV which can aid in improving their academic performance according to the correlation.\n",
        "\n",
        "For students grappling with poor academic performance, as indicated by low test scores, a constructive strategy would involve reducing the time spent on television consumption. By doing so, they can potentially initiate a positive transformation in their academic standing, as suggested by the negative correlation. This correlation underscores the critical nature of effective time management and the allocation of adequate hours to focused studying for enhancing educational outcomes.\n",
        "\n",
        "The nearly -1 correlation coefficient between Hours Studied and Test Scores highlights a significant negative correlation, signifying that an increase in television viewing hours is associated with a decrease in test performance. To excel academically, students struggling with low test scores can leverage this insight by minimizing TV time and redirecting that time towards productive study sessions, thereby facilitating a potential improvement in their academic achievements."
      ],
      "metadata": {
        "id": "zPfGMNSttjhn"
      }
    },
    {
      "cell_type": "markdown",
      "source": [
        "####*Calculate and interpret the correlation coefficient between \"Hours Listening to Music\" and test scores.*"
      ],
      "metadata": {
        "id": "-eazNaCOt2GK"
      }
    },
    {
      "cell_type": "code",
      "source": [
        "print(\"Correlation Coefficient for Hours Listening to Music and Test Scores : \")\n",
        "print(LM_TS_cor_coeff)"
      ],
      "metadata": {
        "colab": {
          "base_uri": "https://localhost:8080/"
        },
        "id": "JEpb0szS1xqO",
        "outputId": "d46951bc-8571-4ddf-eb0a-96d01dfb2e77"
      },
      "execution_count": 10,
      "outputs": [
        {
          "output_type": "stream",
          "name": "stdout",
          "text": [
            "Correlation Coefficient for Hours Listening to Music and Test Scores : \n",
            "-0.2\n"
          ]
        }
      ]
    },
    {
      "cell_type": "markdown",
      "source": [
        "#### *Discuss the potential impact of this correlation on concentration and study habits.*"
      ],
      "metadata": {
        "id": "keKnBbLV2ZIt"
      }
    },
    {
      "cell_type": "markdown",
      "source": [
        "The correlation coefficient of -0.2 between Hours Listening to Music and Test Scores implies a weak negative correlation between these two variables. This means that there is a slight tendency for increased hours of listening to music to be associated with slightly lower test scores, but the relationship is not very strong.\n",
        "\n",
        "Even though the correlation is weak, it does suggest that there might be some interference caused by excessive music listening during study sessions. Music, particularly with lyrics or complex melodies, can divert attention and cognitive resources away from studying. It might lead to difficulties in focusing on complex or information-intensive material.\n",
        "\n",
        "The impact of music on concentration can also depend on the nature of the task at hand. While music might be fine for certain tasks that require creativity or less intense focus, it might hinder performance on tasks that demand sustained attention and analytical thinking.\n",
        "\n",
        "Creating an optimal study environment is crucial for effective learning. Students who are more sensitive to the potential distractions posed by music might benefit from quieter study spaces that allow for deep concentration. On the other hand, those who find music motivating and soothing can strategically integrate it into their study routines."
      ],
      "metadata": {
        "id": "4w7Aqpcc2k75"
      }
    },
    {
      "cell_type": "markdown",
      "source": [
        "####*Calculate and interpret the correlation coefficient between \"Water Consumed\" and test scores.*"
      ],
      "metadata": {
        "id": "nATPulqy2su-"
      }
    },
    {
      "cell_type": "code",
      "source": [
        "print(\"Correlation Coefficient for Water Consumed and Test Scores : \")\n",
        "print(WC_TS_cor_coeff)"
      ],
      "metadata": {
        "colab": {
          "base_uri": "https://localhost:8080/"
        },
        "id": "1YxjUbro2-UF",
        "outputId": "2b49d5cc-87ba-42b5-8e9d-eee3bab39d65"
      },
      "execution_count": 11,
      "outputs": [
        {
          "output_type": "stream",
          "name": "stdout",
          "text": [
            "Correlation Coefficient for Water Consumed and Test Scores : \n",
            "-0.3550358012483632\n"
          ]
        }
      ]
    },
    {
      "cell_type": "markdown",
      "source": [
        "####*Provide a potential explanation for the observed correlation and its relevance to cognitive function.*"
      ],
      "metadata": {
        "id": "Ei69MtnF3JKR"
      }
    },
    {
      "cell_type": "markdown",
      "source": [
        "The correlation coefficient of -0.355 between Water Consumed and Test Scores suggests a moderate negative correlation between these two variables. This indicates that there is a noteworthy relationship where increased water consumption is associated with somewhat lower test scores.\n",
        "\n",
        "The timing of water consumption in relation to studying and test-taking can influence its impact. Drinking an appropriate amount of water before and during study sessions and tests is important. If students consume excessive amounts of water right before or during the test, it might lead to distractions due to frequent bathroom breaks or discomfort, thereby affecting their test performance.\n",
        "\n"
      ],
      "metadata": {
        "id": "GXbxGIoe3WJ2"
      }
    },
    {
      "cell_type": "markdown",
      "source": [
        "####*Calculate and interpret the correlation coefficient between \"Outdoor Activity Time\" and test scores*"
      ],
      "metadata": {
        "id": "i5XfyMLD3YSH"
      }
    },
    {
      "cell_type": "code",
      "source": [
        "print(\"Correlation Coefficient for Outdoor Activity Time and Test Scores : \")\n",
        "print(OAT_TS_cor_coeff)"
      ],
      "metadata": {
        "colab": {
          "base_uri": "https://localhost:8080/"
        },
        "id": "tzKWmfYl3ksz",
        "outputId": "f6021130-7c9f-4efb-c582-bac44a34f132"
      },
      "execution_count": 12,
      "outputs": [
        {
          "output_type": "stream",
          "name": "stdout",
          "text": [
            "Correlation Coefficient for Outdoor Activity Time and Test Scores : \n",
            "1.0\n"
          ]
        }
      ]
    },
    {
      "cell_type": "markdown",
      "source": [
        "#### *Discuss how physical activity might influence academic performance.*"
      ],
      "metadata": {
        "id": "GRuW7R3z3yFk"
      }
    },
    {
      "cell_type": "markdown",
      "source": [
        "The correlation coefficient of 1.0 between Outdoor Activity Time and Test Scores indicates a perfect positive correlation between these two variables. This means that there is a strong and direct relationship: as the amount of time spent in outdoor activities increases, test scores also increase.\n",
        "\n",
        "Physical activity triggers the release of neurotransmitters like dopamine and endorphins, which promote feelings of happiness, reduce stress, and improve mood. These positive emotional states can contribute to a conducive learning environment.\n",
        "\n",
        " Outdoor activities offer an opportunity to disconnect from academic pressures. Exposure to natural settings and fresh air can alleviate anxiety, enabling students to approach studies with a clearer and calmer perspective.\n",
        "\n",
        " Regular physical activity contributes to overall health, which in turn supports mental well-being. A healthy body and mind synergize to create an environment conducive to effective learning and academic achievement.\n",
        "\n",
        " Success in physical activities, such as sports or outdoor challenges, can boost self-esteem and self-efficacy. These positive feelings can spill over into academic pursuits, encouraging students to approach challenges with confidence."
      ],
      "metadata": {
        "id": "ERaRjlPh32AX"
      }
    }
  ]
}