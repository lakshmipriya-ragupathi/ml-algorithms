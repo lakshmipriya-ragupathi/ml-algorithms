{
  "nbformat": 4,
  "nbformat_minor": 0,
  "metadata": {
    "colab": {
      "provenance": []
    },
    "kernelspec": {
      "name": "python3",
      "display_name": "Python 3"
    },
    "language_info": {
      "name": "python"
    }
  },
  "cells": [
    {
      "cell_type": "markdown",
      "source": [
        "# Question 1"
      ],
      "metadata": {
        "id": "HvynnxiKBdHO"
      }
    },
    {
      "cell_type": "markdown",
      "source": [
        "Tasks:\n",
        "Load the Iris dataset (csv file present in the classroom).\n",
        "\n",
        "\n",
        "Choose one random sample from each class (Setosa, Versicolor, and Virginica) which will act as the test data.\n",
        "\n",
        "\n",
        "Compute the mean vector and covariance matrix for each class (without the sample picked in the previous part, now it will act as the test data).\n",
        "\n",
        "\n",
        "Calculate the Mahalanobis distance for each of the selected samples with each of the class using the formula:\n",
        "Mahalanobis distance = sqrt((x - μ)ᵀ * Σ⁻¹ * (x - μ))\n",
        "Where:\n",
        "x is the feature vector of the sample.\n",
        "μ is the mean vector of the entire dataset.\n",
        "Σ⁻¹ is the inverse of the covariance matrix.\n",
        "\n",
        "Compare the Mahalanobis distances for the three samples and classify each sample to the class with the smallest Mahalanobis distance.\n",
        "\n",
        "\n"
      ],
      "metadata": {
        "id": "Q7V3MstApAcd"
      }
    },
    {
      "cell_type": "code",
      "source": [
        "import pandas as pd\n",
        "import numpy as np\n",
        "import matplotlib.pyplot as plt\n",
        "import seaborn as sns"
      ],
      "metadata": {
        "id": "kx2G7sHzp4nW"
      },
      "execution_count": 1,
      "outputs": []
    },
    {
      "cell_type": "code",
      "execution_count": 2,
      "metadata": {
        "colab": {
          "base_uri": "https://localhost:8080/"
        },
        "id": "GHp1ilSsonUP",
        "outputId": "2f85e708-0220-4fdb-f91a-47cf0ac95e7c"
      },
      "outputs": [
        {
          "output_type": "stream",
          "name": "stdout",
          "text": [
            "Mounted at /content/drive\n"
          ]
        }
      ],
      "source": [
        "from google.colab import drive\n",
        "drive.mount('/content/drive')"
      ]
    },
    {
      "cell_type": "markdown",
      "source": [
        "### Load the Iris dataset (csv file present in the classroom)."
      ],
      "metadata": {
        "id": "r655PX4OrjCd"
      }
    },
    {
      "cell_type": "code",
      "source": [
        "path = \"/content/drive/MyDrive/PRML/LAB_3/iris.csv\"\n",
        "df = pd.read_csv(path)"
      ],
      "metadata": {
        "id": "fThRqdH2qYbh"
      },
      "execution_count": 3,
      "outputs": []
    },
    {
      "cell_type": "code",
      "source": [
        "print(df.info())"
      ],
      "metadata": {
        "colab": {
          "base_uri": "https://localhost:8080/"
        },
        "id": "yR9ZNTcOqlxO",
        "outputId": "ff510a98-54b1-450b-cf9a-d28f6238cbbe"
      },
      "execution_count": 4,
      "outputs": [
        {
          "output_type": "stream",
          "name": "stdout",
          "text": [
            "<class 'pandas.core.frame.DataFrame'>\n",
            "RangeIndex: 150 entries, 0 to 149\n",
            "Data columns (total 6 columns):\n",
            " #   Column         Non-Null Count  Dtype  \n",
            "---  ------         --------------  -----  \n",
            " 0   Id             150 non-null    int64  \n",
            " 1   SepalLengthCm  150 non-null    float64\n",
            " 2   SepalWidthCm   150 non-null    float64\n",
            " 3   PetalLengthCm  150 non-null    float64\n",
            " 4   PetalWidthCm   150 non-null    float64\n",
            " 5   Species        150 non-null    object \n",
            "dtypes: float64(4), int64(1), object(1)\n",
            "memory usage: 7.2+ KB\n",
            "None\n"
          ]
        }
      ]
    },
    {
      "cell_type": "markdown",
      "source": [
        "### Choose one random sample from each class (Setosa, Versicolor, and Virginica) which will act as the test data."
      ],
      "metadata": {
        "id": "mx3_oNcerdsc"
      }
    },
    {
      "cell_type": "code",
      "source": [
        "test = pd.DataFrame()\n",
        "for ind,row in df.iterrows():\n",
        "  if (ind == 21) or (ind == 86) or (ind == 129):\n",
        "    #predict_test_case = pd.concat([predict_test_case, new_row], ignore_index=True)\n",
        "    #new_row = pd.DataFrame({'Id' : [rows.Id], 'Distance' : [Dist], 'Species':[rows.Species]})\n",
        "    new_row = pd.DataFrame({'Id': [row.Id], 'SepalLengthCm': [row.SepalLengthCm], 'SepalWidthCm': [row.SepalWidthCm], 'PetalLengthCm' :[row.PetalLengthCm], 'PetalWidthCm' : [row.PetalWidthCm], 'Species' : [row.Species]})\n",
        "    test = pd.concat([test,new_row], ignore_index = True)\n",
        "    df.drop(df[df['Id'] == ind].index, inplace = True)\n",
        "\n",
        "print(test)\n",
        "print(df.info())\n"
      ],
      "metadata": {
        "colab": {
          "base_uri": "https://localhost:8080/"
        },
        "id": "5Pv9g7Iqq1dC",
        "outputId": "d5861873-0aa6-4ecd-c092-f7570786e2a8"
      },
      "execution_count": 5,
      "outputs": [
        {
          "output_type": "stream",
          "name": "stdout",
          "text": [
            "    Id  SepalLengthCm  SepalWidthCm  PetalLengthCm  PetalWidthCm  \\\n",
            "0   22            5.1           3.7            1.5           0.4   \n",
            "1   87            6.7           3.1            4.7           1.5   \n",
            "2  130            7.2           3.0            5.8           1.6   \n",
            "\n",
            "           Species  \n",
            "0      Iris-setosa  \n",
            "1  Iris-versicolor  \n",
            "2   Iris-virginica  \n",
            "<class 'pandas.core.frame.DataFrame'>\n",
            "Int64Index: 147 entries, 0 to 149\n",
            "Data columns (total 6 columns):\n",
            " #   Column         Non-Null Count  Dtype  \n",
            "---  ------         --------------  -----  \n",
            " 0   Id             147 non-null    int64  \n",
            " 1   SepalLengthCm  147 non-null    float64\n",
            " 2   SepalWidthCm   147 non-null    float64\n",
            " 3   PetalLengthCm  147 non-null    float64\n",
            " 4   PetalWidthCm   147 non-null    float64\n",
            " 5   Species        147 non-null    object \n",
            "dtypes: float64(4), int64(1), object(1)\n",
            "memory usage: 8.0+ KB\n",
            "None\n"
          ]
        }
      ]
    },
    {
      "cell_type": "markdown",
      "source": [
        "### Compute the mean vector and covariance matrix for each class"
      ],
      "metadata": {
        "id": "aWEdqpBRuSru"
      }
    },
    {
      "cell_type": "code",
      "source": [
        "mean_vector = []\n",
        "\n",
        "counter_1 = 0\n",
        "counter_2 = 0\n",
        "counter_3 =0\n",
        "\n",
        "sepal_length_c_1 = 0\n",
        "sepal_width_c_1 = 0\n",
        "petal_length_c_1 = 0\n",
        "petal_width_c_1 = 0\n",
        "\n",
        "sepal_length_c_2 = 0\n",
        "sepal_width_c_2 = 0\n",
        "petal_length_c_2 = 0\n",
        "petal_width_c_2 = 0\n",
        "\n",
        "sepal_length_c_3 = 0\n",
        "sepal_width_c_3 = 0\n",
        "petal_length_c_3 = 0\n",
        "petal_width_c_3 = 0\n",
        "\n",
        "for ind,row in df.iterrows():\n",
        "  if row.Species == 'Iris-setosa':\n",
        "    counter_1 = counter_1 + 1\n",
        "    sepal_length_c_1 = sepal_length_c_1 + row.SepalLengthCm\n",
        "    sepal_width_c_1 = sepal_width_c_1 + row.SepalWidthCm\n",
        "    petal_length_c_1 = petal_length_c_1 + row.PetalLengthCm\n",
        "    petal_width_c_1 = petal_width_c_1 + row.PetalWidthCm\n",
        "  elif row.Species == 'Iris-versicolor':\n",
        "    counter_2 = counter_2 + 1\n",
        "    sepal_length_c_2 = sepal_length_c_2 + row.SepalLengthCm\n",
        "    sepal_width_c_2 = sepal_width_c_2 + row.SepalWidthCm\n",
        "    petal_length_c_2 = petal_length_c_2 + row.PetalLengthCm\n",
        "    petal_width_c_2 = petal_width_c_2 + row.PetalWidthCm\n",
        "  elif row.Species == 'Iris-virginica':\n",
        "    counter_3 = counter_3 + 1\n",
        "    sepal_length_c_3 = sepal_length_c_3 + row.SepalLengthCm\n",
        "    sepal_width_c_3 = sepal_width_c_3 + row.SepalWidthCm\n",
        "    petal_length_c_3 = petal_length_c_3 + row.PetalLengthCm\n",
        "    petal_width_c_3 = petal_width_c_3 + row.PetalWidthCm\n",
        "\n",
        "\n",
        "mean_sepal_length_1 = sepal_length_c_1/counter_1\n",
        "mean_sepal_width_1 = sepal_width_c_1/counter_1\n",
        "mean_petal_length_1 = petal_length_c_1/counter_1\n",
        "mean_petal_width_1 = petal_width_c_1/counter_1\n",
        "\n",
        "mean_vector_1 = np.array([mean_sepal_length_1, mean_sepal_width_1, mean_petal_length_1, mean_petal_width_1])\n",
        "\n",
        "mean_sepal_length_2 = sepal_length_c_2/counter_2\n",
        "mean_sepal_width_2 = sepal_width_c_2/counter_2\n",
        "mean_petal_length_2 = petal_length_c_2/counter_2\n",
        "mean_petal_width_2 = petal_width_c_2/counter_2\n",
        "\n",
        "mean_vector_2 = np.array([mean_sepal_length_2, mean_sepal_width_2, mean_petal_length_2, mean_petal_width_2])\n",
        "\n",
        "mean_sepal_length_3 = sepal_length_c_3/counter_3\n",
        "mean_sepal_width_3 = sepal_width_c_3/counter_3\n",
        "mean_petal_length_3 = petal_length_c_3/counter_3\n",
        "mean_petal_width_3 = petal_width_c_3/counter_3\n",
        "\n",
        "mean_vector_3 = np.array([mean_sepal_length_3, mean_sepal_width_3, mean_petal_length_3, mean_petal_width_3])"
      ],
      "metadata": {
        "id": "r6Yo5EwjuAbP"
      },
      "execution_count": 6,
      "outputs": []
    },
    {
      "cell_type": "code",
      "source": [
        "cov_matr =[]\n",
        "#subtract the mean, square and add\n",
        "#var(x)   cov(x,y)    cov(x,z)  cov(x,u)\n",
        "#cov(y,x) var(y)      cov(y,z)  cov(y,u)\n",
        "#cov(z,x)  cov(z,y)   var(z)    cov(z,u)\n",
        "#cov(u,x)  cov(u,y)   cov(u,z)  var(u)\n",
        "\n",
        "#x = sepal length\n",
        "#y = sepal width\n",
        "#z = petal length\n",
        "#u = petal width\n",
        "\n",
        "#for cov youre basically multiplying the diff with each other\n",
        "#square with itself\n",
        "#var(x) for Iris-setosa x = sepal length\n",
        "counter_c1 = 0\n",
        "counter_c2 = 0\n",
        "counter_c3 = 0\n",
        "sepal_length_var_c_1 = 0\n",
        "sepal_width_var_c_1 = 0\n",
        "petal_width_var_c_1 = 0\n",
        "petal_length_var_c_1 = 0\n",
        "\n",
        "sepal_len_petal_len_c_1 = 0\n",
        "sepal_len_petal_wid_c_1 = 0\n",
        "sepal_len_sepal_wid_c_1 = 0\n",
        "petal_len_petal_wid_c_1 = 0\n",
        "\n",
        "sepal_wid_petal_len_c_1 = 0\n",
        "sepal_wid_petal_wid_c_1 = 0\n",
        "\n",
        "\n",
        "sepal_length_var_c_2 = 0\n",
        "sepal_width_var_c_2 = 0\n",
        "petal_width_var_c_2 = 0\n",
        "petal_length_var_c_2 = 0\n",
        "\n",
        "sepal_len_petal_len_c_2 = 0\n",
        "sepal_len_petal_wid_c_2 = 0\n",
        "sepal_len_sepal_wid_c_2 = 0\n",
        "petal_len_petal_wid_c_2 = 0\n",
        "\n",
        "sepal_wid_petal_len_c_2 = 0\n",
        "sepal_wid_petal_wid_c_2 = 0\n",
        "\n",
        "\n",
        "sepal_length_var_c_3 = 0\n",
        "sepal_width_var_c_3 = 0\n",
        "petal_width_var_c_3 = 0\n",
        "petal_length_var_c_3 = 0\n",
        "\n",
        "sepal_len_petal_len_c_3 = 0\n",
        "sepal_len_petal_wid_c_3 = 0\n",
        "sepal_len_sepal_wid_c_3 = 0\n",
        "petal_len_petal_wid_c_3 = 0\n",
        "\n",
        "sepal_wid_petal_len_c_3 = 0\n",
        "sepal_wid_petal_wid_c_3 = 0\n",
        "\n",
        "for ind,row in df.iterrows():\n",
        "  if row.Species == 'Iris-setosa':\n",
        "    counter_c1 = counter_c1 + 1\n",
        "    sepal_length_var_c_1 = sepal_length_var_c_1 + (row.SepalLengthCm - mean_vector_1[0])**2\n",
        "    sepal_width_var_c_1 =sepal_width_var_c_1 + (row.SepalWidthCm - mean_vector_1[1])**2\n",
        "    petal_length_var_c_1 =petal_length_var_c_1 + (row.PetalLengthCm - mean_vector_1[2])**2\n",
        "    petal_width_var_c_1 = petal_width_var_c_1 + (row.PetalWidthCm - mean_vector_1[3])**2\n",
        "\n",
        "    sepal_len_petal_len_c_1 = sepal_len_petal_len_c_1 + ((row.SepalLengthCm - mean_vector_1[0])*(row.PetalLengthCm - mean_vector_1[2]))\n",
        "    sepal_len_petal_wid_c_1 = sepal_len_petal_wid_c_1 + ((row.SepalLengthCm - mean_vector_1[0])*(row.PetalWidthCm - mean_vector_1[3]))\n",
        "    sepal_len_sepal_wid_c_1 = sepal_len_sepal_wid_c_1 + ((row.SepalLengthCm - mean_vector_1[0])*(row.SepalWidthCm - mean_vector_1[1]))\n",
        "    petal_len_petal_wid_c_1 = petal_len_petal_wid_c_1 + ((row.PetalLengthCm - mean_vector_1[2])*(row.PetalWidthCm - mean_vector_1[3]))\n",
        "\n",
        "    sepal_wid_petal_len_c_1 = sepal_wid_petal_len_c_1 + ((row.SepalWidthCm - mean_vector_1[1])*(row.PetalLengthCm - mean_vector_1[2]))\n",
        "    sepal_wid_petal_wid_c_1 = sepal_wid_petal_wid_c_1 + ((row.SepalWidthCm - mean_vector_1[1])*(row.PetalWidthCm - mean_vector_1[3]))\n",
        "\n",
        "  elif row.Species == 'Iris-versicolor':\n",
        "    counter_c2 = counter_c2 + 1\n",
        "    sepal_length_var_c_2 = sepal_length_var_c_2 + (row.SepalLengthCm - mean_vector_2[0])**2\n",
        "    sepal_width_var_c_2 =sepal_width_var_c_2 + (row.SepalWidthCm - mean_vector_2[1])**2\n",
        "    petal_length_var_c_2 =petal_length_var_c_2 + (row.PetalLengthCm - mean_vector_2[2])**2\n",
        "    petal_width_var_c_2 = petal_width_var_c_2 + (row.PetalWidthCm - mean_vector_2[3])**2\n",
        "\n",
        "    sepal_len_petal_len_c_2 = sepal_len_petal_len_c_2 + ((row.SepalLengthCm - mean_vector_2[0])*(row.PetalLengthCm - mean_vector_2[2]))\n",
        "    sepal_len_petal_wid_c_2 = sepal_len_petal_wid_c_2 + ((row.SepalLengthCm - mean_vector_2[0])*(row.PetalWidthCm - mean_vector_2[3]))\n",
        "    sepal_len_sepal_wid_c_2 = sepal_len_sepal_wid_c_2 + ((row.SepalLengthCm - mean_vector_2[0])*(row.SepalWidthCm - mean_vector_2[1]))\n",
        "    petal_len_petal_wid_c_2 = petal_len_petal_wid_c_2 + ((row.PetalLengthCm - mean_vector_2[2])*(row.PetalWidthCm - mean_vector_2[3]))\n",
        "\n",
        "    sepal_wid_petal_len_c_2 = sepal_wid_petal_len_c_2 + ((row.SepalWidthCm - mean_vector_2[1])*(row.PetalLengthCm - mean_vector_2[2]))\n",
        "    sepal_wid_petal_wid_c_2 = sepal_wid_petal_wid_c_2 + ((row.SepalWidthCm - mean_vector_2[1])*(row.PetalWidthCm - mean_vector_2[3]))\n",
        "\n",
        "  elif row.Species == 'Iris-virginica':\n",
        "    counter_c3 = counter_c3 + 1\n",
        "    sepal_length_var_c_3 = sepal_length_var_c_3 + (row.SepalLengthCm - mean_vector_3[0])**2\n",
        "    sepal_width_var_c_3 =sepal_width_var_c_3 + (row.SepalWidthCm - mean_vector_3[1])**2\n",
        "    petal_length_var_c_3 =petal_length_var_c_3 + (row.PetalLengthCm - mean_vector_3[2])**2\n",
        "    petal_width_var_c_3 = petal_width_var_c_3 + (row.PetalWidthCm - mean_vector_3[3])**2\n",
        "\n",
        "    sepal_len_petal_len_c_3 = sepal_len_petal_len_c_3 + ((row.SepalLengthCm - mean_vector_3[0])*(row.PetalLengthCm - mean_vector_3[2]))\n",
        "    sepal_len_petal_wid_c_3 = sepal_len_petal_wid_c_3 + ((row.SepalLengthCm - mean_vector_3[0])*(row.PetalWidthCm - mean_vector_3[3]))\n",
        "    sepal_len_sepal_wid_c_3 = sepal_len_sepal_wid_c_3 + ((row.SepalLengthCm - mean_vector_3[0])*(row.SepalWidthCm - mean_vector_3[1]))\n",
        "    petal_len_petal_wid_c_3 = petal_len_petal_wid_c_3 + ((row.PetalLengthCm - mean_vector_3[2])*(row.PetalWidthCm - mean_vector_3[3]))\n",
        "\n",
        "    sepal_wid_petal_len_c_3 = sepal_wid_petal_len_c_3 + ((row.SepalWidthCm - mean_vector_3[1])*(row.PetalLengthCm - mean_vector_3[2]))\n",
        "    sepal_wid_petal_wid_c_3 = sepal_wid_petal_wid_c_3 + ((row.SepalWidthCm - mean_vector_3[1])*(row.PetalWidthCm - mean_vector_3[3]))\n",
        "\n",
        "\n",
        "cov_mat_1 = np.matrix([[sepal_length_var_c_1, sepal_len_sepal_wid_c_1, sepal_len_petal_len_c_1, sepal_len_petal_wid_c_1],\n",
        "             [sepal_len_sepal_wid_c_1, sepal_width_var_c_1, sepal_wid_petal_len_c_1, sepal_wid_petal_wid_c_1],\n",
        "             [sepal_len_petal_len_c_1, sepal_wid_petal_len_c_1, petal_length_var_c_1, petal_len_petal_wid_c_1],\n",
        "             [sepal_len_petal_wid_c_1, sepal_wid_petal_wid_c_1, petal_len_petal_wid_c_1, petal_width_var_c_1]])\n",
        "\n",
        "cov_mat_2 = np.matrix([[sepal_length_var_c_2, sepal_len_sepal_wid_c_2, sepal_len_petal_len_c_2, sepal_len_petal_wid_c_2],\n",
        "             [sepal_len_sepal_wid_c_2, sepal_width_var_c_2, sepal_wid_petal_len_c_2, sepal_wid_petal_wid_c_2],\n",
        "             [sepal_len_petal_len_c_2, sepal_wid_petal_len_c_2, petal_length_var_c_2, petal_len_petal_wid_c_2],\n",
        "             [sepal_len_petal_wid_c_2, sepal_wid_petal_wid_c_2, petal_len_petal_wid_c_2, petal_width_var_c_2]])\n",
        "\n",
        "cov_mat_3 = np.matrix([[sepal_length_var_c_3, sepal_len_sepal_wid_c_3, sepal_len_petal_len_c_3, sepal_len_petal_wid_c_3],\n",
        "             [sepal_len_sepal_wid_c_3, sepal_width_var_c_3, sepal_wid_petal_len_c_3, sepal_wid_petal_wid_c_3],\n",
        "             [sepal_len_petal_len_c_3, sepal_wid_petal_len_c_3, petal_length_var_c_3, petal_len_petal_wid_c_3],\n",
        "             [sepal_len_petal_wid_c_3, sepal_wid_petal_wid_c_3, petal_len_petal_wid_c_3, petal_width_var_c_3]])\n"
      ],
      "metadata": {
        "id": "6vQmLRuxzubS"
      },
      "execution_count": 7,
      "outputs": []
    },
    {
      "cell_type": "code",
      "source": [
        "print(\"Covariance matrix is of the form : \\n\")\n",
        "print(\"var(x)   cov(x,y)    cov(x,z)  cov(x,u)\")\n",
        "print(\"cov(y,x) var(y)      cov(y,z)  cov(y,u)\")\n",
        "print(\"cov(z,x)  cov(z,y)   var(z)    cov(z,u)\")\n",
        "print(\"cov(u,x)  cov(u,y)   cov(u,z)  var(u)\")\n",
        "print(\"\\nx = sepal length\\ny = sepal width\\nz = petal length\\nu = petal width\\n\\n\")\n",
        "print()\n",
        "print()\n",
        "print(\"Mean Vector for Class A~Iris-setosa : \")\n",
        "print(mean_vector_1)\n",
        "print()\n",
        "print(\"Covariance matrix for Class A-Iris setosa : \")\n",
        "print(cov_mat_1)\n",
        "print()\n",
        "print()\n",
        "print(\"Mean Vector for Class B~Iris-versicolor : \")\n",
        "print(mean_vector_2)\n",
        "print()\n",
        "print(\"Covariance matrix for Class B-Iris setosa : \")\n",
        "print(cov_mat_2)\n",
        "print()\n",
        "print()\n",
        "print(\"Mean Vector for Class C~Iris-virginica : \")\n",
        "print(mean_vector_3)\n",
        "print()\n",
        "print(\"Covariance matrix for Class C-Iris setosa : \")\n",
        "print(cov_mat_3)\n",
        "print()"
      ],
      "metadata": {
        "colab": {
          "base_uri": "https://localhost:8080/"
        },
        "id": "ulVZAVvT7V4D",
        "outputId": "45eb7ec5-9c79-4c95-fa2a-e68d751b3577"
      },
      "execution_count": 10,
      "outputs": [
        {
          "output_type": "stream",
          "name": "stdout",
          "text": [
            "Covariance matrix is of the form : \n",
            "\n",
            "var(x)   cov(x,y)    cov(x,z)  cov(x,u)\n",
            "cov(y,x) var(y)      cov(y,z)  cov(y,u)\n",
            "cov(z,x)  cov(z,y)   var(z)    cov(z,u)\n",
            "cov(u,x)  cov(u,y)   cov(u,z)  var(u)\n",
            "\n",
            "x = sepal length\n",
            "y = sepal width\n",
            "z = petal length\n",
            "u = petal width\n",
            "\n",
            "\n",
            "\n",
            "\n",
            "Mean Vector for Class A~Iris-setosa : \n",
            "[4.99795918 3.41836735 1.45918367 0.24489796]\n",
            "\n",
            "Covariance matrix for Class A-Iris setosa : \n",
            "[[5.92979592 4.92183673 0.69591837 0.5344898 ]\n",
            " [4.92183673 7.11346939 0.57673469 0.55959184]\n",
            " [0.69591837 0.57673469 1.41836735 0.28979592]\n",
            " [0.5344898  0.55959184 0.28979592 0.56122449]]\n",
            "\n",
            "\n",
            "Mean Vector for Class B~Iris-versicolor : \n",
            "[5.93469388 2.75714286 4.25510204 1.32040816]\n",
            "\n",
            "Covariance matrix for Class B-Iris setosa : \n",
            "[[13.05102041  4.13285714  8.94632653  2.71530612]\n",
            " [ 4.13285714  4.42        3.89571429  1.84285714]\n",
            " [ 8.94632653  3.89571429 10.76122449  3.51489796]\n",
            " [ 2.71530612  1.84285714  3.51489796  1.83959184]]\n",
            "\n",
            "\n",
            "Mean Vector for Class C~Iris-virginica : \n",
            "[6.59183673 2.97755102 5.55102041 2.0244898 ]\n",
            "\n",
            "Covariance matrix for Class C-Iris setosa : \n",
            "[[19.77673469  4.56102041 14.87040816  2.41979592]\n",
            " [ 4.56102041  5.06530612  3.50612245  2.34693878]\n",
            " [14.87040816  3.50612245 14.92244898  2.38877551]\n",
            " [ 2.41979592  2.34693878  2.38877551  3.69061224]]\n",
            "\n"
          ]
        }
      ]
    },
    {
      "cell_type": "markdown",
      "source": [
        "### Calculate the Mahalanobis distance for each of the selected samples with each of the class using the formula:\n",
        "\n",
        "Mahalanobis distance = sqrt((x - μ)ᵀ * Σ⁻¹ * (x - μ))\n",
        "\n",
        "Where:\n",
        "\n",
        "x is the feature vector of the sample.\n",
        "\n",
        "μ is the mean vector for each class.\n",
        "\n",
        "Σ⁻¹ is the inverse of the covariance matrix for each class.\n"
      ],
      "metadata": {
        "id": "lBt7P4Sd4lKM"
      }
    },
    {
      "cell_type": "code",
      "source": [
        "#for test case\n",
        "print(test)"
      ],
      "metadata": {
        "id": "vNwVEjCfxj6g",
        "colab": {
          "base_uri": "https://localhost:8080/"
        },
        "outputId": "e6f9cc97-cb8a-410a-e416-c067400dad66"
      },
      "execution_count": 11,
      "outputs": [
        {
          "output_type": "stream",
          "name": "stdout",
          "text": [
            "    Id  SepalLengthCm  SepalWidthCm  PetalLengthCm  PetalWidthCm  \\\n",
            "0   22            5.1           3.7            1.5           0.4   \n",
            "1   87            6.7           3.1            4.7           1.5   \n",
            "2  130            7.2           3.0            5.8           1.6   \n",
            "\n",
            "           Species  \n",
            "0      Iris-setosa  \n",
            "1  Iris-versicolor  \n",
            "2   Iris-virginica  \n"
          ]
        }
      ]
    },
    {
      "cell_type": "code",
      "source": [
        "#test_case_1\n",
        "\n",
        "#cass A = Iris-setosa\n",
        "#case B = Iris-versicolor\n",
        "#case C = Iris-virginica\n",
        "\n",
        "#mean vectors:\n",
        "#mean_vector_1\n",
        "#mean_vector_2\n",
        "#mean_vector_3\n",
        "\n",
        "test_case_1 = test.iloc[[0]]\n",
        "print(test_case_1)\n",
        "\n",
        "\n",
        "test_x_1 = np.array([test_case_1.SepalLengthCm, test_case_1.SepalWidthCm, test_case_1.PetalLengthCm, test_case_1.PetalWidthCm])\n",
        "\n",
        "#mahalnobis_dist = np.sqrt(((x - μ)ᵀ * Σ⁻¹ * (x - μ)))\n",
        "#for class one Iris-setosa:\n",
        "mahalnobis_dist_1_A = np.sqrt((test_x_1.reshape(1,4) - mean_vector_1)*(np.linalg.inv(cov_mat_1))*(test_x_1 - mean_vector_1.reshape(4,1)))\n",
        "print(\"Mahalnobis distance for sample 1 and class A~Iris-setosa\")\n",
        "print(mahalnobis_dist_1_A)\n",
        "\n",
        "#for class two Iris-versicolor:\n",
        "mahalnobis_dist_1_B = np.sqrt((test_x_1.reshape(1,4) - mean_vector_2)*(np.linalg.inv(cov_mat_2))*(test_x_1 - mean_vector_2.reshape(4,1)))\n",
        "print(\"\\nMahalnobis distance for sample 1 and class B~Iris-versicolor\")\n",
        "print(mahalnobis_dist_1_B)\n",
        "\n",
        "#for class three Iris-virginica:\n",
        "mahalnobis_dist_1_C = np.sqrt((test_x_1.reshape(1,4) - mean_vector_3)*(np.linalg.inv(cov_mat_3))*(test_x_1 - mean_vector_3.reshape(4,1)))\n",
        "print(\"\\nMahalnobis distance for sample 1 and class C~Iris-virginica\")\n",
        "print(mahalnobis_dist_1_C)\n",
        "\n",
        "print(\"\\n\\nPredicted class is : Iris-setosa\")\n",
        "print(\"Original class is : \", test_case_1.Species[0])\n"
      ],
      "metadata": {
        "colab": {
          "base_uri": "https://localhost:8080/"
        },
        "id": "wd2ekqgcRdlh",
        "outputId": "d8192b79-c2b3-48e7-f3df-1aa8428220c0"
      },
      "execution_count": 12,
      "outputs": [
        {
          "output_type": "stream",
          "name": "stdout",
          "text": [
            "   Id  SepalLengthCm  SepalWidthCm  PetalLengthCm  PetalWidthCm      Species\n",
            "0  22            5.1           3.7            1.5           0.4  Iris-setosa\n",
            "Mahalnobis distance for sample 1 and class A~Iris-setosa\n",
            "[[0.23039015]]\n",
            "\n",
            "Mahalnobis distance for sample 1 and class B~Iris-versicolor\n",
            "[[1.51393904]]\n",
            "\n",
            "Mahalnobis distance for sample 1 and class C~Iris-virginica\n",
            "[[1.89984568]]\n",
            "\n",
            "\n",
            "Predicted class is : Iris-setosa\n",
            "Original class is :  Iris-setosa\n"
          ]
        }
      ]
    },
    {
      "cell_type": "code",
      "source": [
        "#test_case_2\n",
        "\n",
        "#cass A = Iris-setosa\n",
        "#case B = Iris-versicolor\n",
        "#case C = Iris-virginica\n",
        "\n",
        "#mean vectors:\n",
        "#mean_vector_1\n",
        "#mean_vector_2\n",
        "#mean_vector_3\n",
        "\n",
        "test_case_2 = test.iloc[[1]]\n",
        "print(test_case_2)\n",
        "\n",
        "\n",
        "test_x_2 = np.array([test_case_2.SepalLengthCm, test_case_2.SepalWidthCm, test_case_2.PetalLengthCm, test_case_2.PetalWidthCm])\n",
        "\n",
        "#mahalnobis_dist = np.sqrt(((x - μ)ᵀ * Σ⁻¹ * (x - μ)))\n",
        "#for class one Iris-setosa:\n",
        "mahalnobis_dist_2_A = np.sqrt((test_x_2.reshape(1,4) - mean_vector_1)*(np.linalg.inv(cov_mat_1))*(test_x_2 - mean_vector_1.reshape(4,1)))\n",
        "print(\"Mahalnobis distance for sample 2 and class A~Iris-setosa\")\n",
        "print(mahalnobis_dist_2_A)\n",
        "\n",
        "#for class two Iris-versicolor:\n",
        "mahalnobis_dist_2_B = np.sqrt((test_x_2.reshape(1,4) - mean_vector_2)*(np.linalg.inv(cov_mat_2))*(test_x_2 - mean_vector_2.reshape(4,1)))\n",
        "print(\"\\nMahalnobis distance for sample 2 and class B~Iris-versicolor\")\n",
        "print(mahalnobis_dist_2_B)\n",
        "\n",
        "#for class three Iris-virginica:\n",
        "mahalnobis_dist_2_C = np.sqrt((test_x_2.reshape(1,4) - mean_vector_3)*(np.linalg.inv(cov_mat_3))*(test_x_2 - mean_vector_3.reshape(4,1)))\n",
        "print(\"\\nMahalnobis distance for sample 2 and class C~Iris-virginica\")\n",
        "print(mahalnobis_dist_2_C)\n",
        "\n",
        "\n",
        "print(\"\\n\\nPredicted class is : Iris-versicolor\")\n",
        "print(\"Original class is : \", test_case_2.Species[1])\n"
      ],
      "metadata": {
        "colab": {
          "base_uri": "https://localhost:8080/"
        },
        "id": "XuKFbIm7fssO",
        "outputId": "410e1cce-ec43-447d-8cae-5335beadb357"
      },
      "execution_count": 13,
      "outputs": [
        {
          "output_type": "stream",
          "name": "stdout",
          "text": [
            "   Id  SepalLengthCm  SepalWidthCm  PetalLengthCm  PetalWidthCm  \\\n",
            "1  87            6.7           3.1            4.7           1.5   \n",
            "\n",
            "           Species  \n",
            "1  Iris-versicolor  \n",
            "Mahalnobis distance for sample 2 and class A~Iris-setosa\n",
            "[[3.04912208]]\n",
            "\n",
            "Mahalnobis distance for sample 2 and class B~Iris-versicolor\n",
            "[[0.22845941]]\n",
            "\n",
            "Mahalnobis distance for sample 2 and class C~Iris-virginica\n",
            "[[0.56194455]]\n",
            "\n",
            "\n",
            "Predicted class is : Iris-versicolor\n",
            "Original class is :  Iris-versicolor\n"
          ]
        }
      ]
    },
    {
      "cell_type": "code",
      "source": [
        "#test_case_2\n",
        "\n",
        "#cass A = Iris-setosa\n",
        "#case B = Iris-versicolor\n",
        "#case C = Iris-virginica\n",
        "\n",
        "#mean vectors:\n",
        "#mean_vector_1\n",
        "#mean_vector_2\n",
        "#mean_vector_3\n",
        "\n",
        "test_case_3 = test.iloc[[2]]\n",
        "print(test_case_3)\n",
        "\n",
        "\n",
        "test_x_3 = np.array([test_case_3.SepalLengthCm, test_case_3.SepalWidthCm, test_case_3.PetalLengthCm, test_case_3.PetalWidthCm])\n",
        "\n",
        "#mahalnobis_dist = np.sqrt(((x - μ)ᵀ * Σ⁻¹ * (x - μ)))\n",
        "#for class one Iris-setosa:\n",
        "mahalnobis_dist_3_A = np.sqrt((test_x_3.reshape(1,4) - mean_vector_1)*(np.linalg.inv(cov_mat_1))*(test_x_3 - mean_vector_1.reshape(4,1)))\n",
        "print(\"Mahalnobis distance for sample 3 and class A~Iris-setosa\")\n",
        "print(mahalnobis_dist_3_A)\n",
        "\n",
        "#for class two Iris-versicolor:\n",
        "mahalnobis_dist_3_B = np.sqrt((test_x_3.reshape(1,4) - mean_vector_2)*(np.linalg.inv(cov_mat_2))*(test_x_3 - mean_vector_2.reshape(4,1)))\n",
        "print(\"\\nMahalnobis distance for sample 3 and class B~Iris-versicolor\")\n",
        "print(mahalnobis_dist_3_B)\n",
        "\n",
        "#for class three Iris-virginica:\n",
        "mahalnobis_dist_3_C = np.sqrt((test_x_3.reshape(1,4) - mean_vector_3)*(np.linalg.inv(cov_mat_3))*(test_x_3 - mean_vector_3.reshape(4,1)))\n",
        "print(\"\\nMahalnobis distance for sample 3 and class C~Iris-virginica\")\n",
        "print(mahalnobis_dist_3_C)\n",
        "\n",
        "\n",
        "print(\"\\n\\nPredicted class is : Iris-virginica\")\n",
        "print(\"Original class is : \", test_case_3.Species[2])"
      ],
      "metadata": {
        "colab": {
          "base_uri": "https://localhost:8080/"
        },
        "id": "-F53MOFZupAa",
        "outputId": "08932be3-d3c0-45e2-e35e-9b9573693ee2"
      },
      "execution_count": 14,
      "outputs": [
        {
          "output_type": "stream",
          "name": "stdout",
          "text": [
            "    Id  SepalLengthCm  SepalWidthCm  PetalLengthCm  PetalWidthCm  \\\n",
            "2  130            7.2           3.0            5.8           1.6   \n",
            "\n",
            "          Species  \n",
            "2  Iris-virginica  \n",
            "Mahalnobis distance for sample 3 and class A~Iris-setosa\n",
            "[[3.94831937]]\n",
            "\n",
            "Mahalnobis distance for sample 3 and class B~Iris-versicolor\n",
            "[[0.54948726]]\n",
            "\n",
            "Mahalnobis distance for sample 3 and class C~Iris-virginica\n",
            "[[0.32010813]]\n",
            "\n",
            "\n",
            "Predicted class is : Iris-virginica\n",
            "Original class is :  Iris-virginica\n"
          ]
        }
      ]
    }
  ]
}
