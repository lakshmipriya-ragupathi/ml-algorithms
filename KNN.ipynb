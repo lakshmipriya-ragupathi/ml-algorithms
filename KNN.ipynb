{
  "nbformat": 4,
  "nbformat_minor": 0,
  "metadata": {
    "colab": {
      "provenance": [],
      "mount_file_id": "1qaBQ-uTSVUJR2jeMsUu7HQx24QJ2hvAI",
      "authorship_tag": "ABX9TyOOWLtMtWwoz1LGIxpDf4Jn",
      "include_colab_link": true
    },
    "kernelspec": {
      "name": "python3",
      "display_name": "Python 3"
    },
    "language_info": {
      "name": "python"
    }
  },
  "cells": [
    {
      "cell_type": "markdown",
      "metadata": {
        "id": "view-in-github",
        "colab_type": "text"
      },
      "source": [
        "<a href=\"https://colab.research.google.com/github/lakshmipriya-ragupathi/ml_algorithms/blob/main/KNN.ipynb\" target=\"_parent\"><img src=\"https://colab.research.google.com/assets/colab-badge.svg\" alt=\"Open In Colab\"/></a>"
      ]
    },
    {
      "cell_type": "code",
      "execution_count": null,
      "metadata": {
        "colab": {
          "base_uri": "https://localhost:8080/"
        },
        "id": "T3EOYeBihseo",
        "outputId": "f02725cc-08dc-4cad-d96a-a2dc758c8c7c"
      },
      "outputs": [
        {
          "output_type": "stream",
          "name": "stdout",
          "text": [
            "Mounted at /content/drive\n"
          ]
        }
      ],
      "source": [
        "from google.colab import drive\n",
        "drive.mount('/content/drive')"
      ]
    },
    {
      "cell_type": "code",
      "source": [
        "import numpy as np\n",
        "import pandas as pd\n",
        "from numpy import linalg as LA\n",
        "import matplotlib.pyplot as plt\n",
        "from sklearn.preprocessing import LabelEncoder\n",
        "import math"
      ],
      "metadata": {
        "id": "Psw52NeniSYj"
      },
      "execution_count": null,
      "outputs": []
    },
    {
      "cell_type": "code",
      "source": [
        "path ='/content/drive/MyDrive/DAY-3/sonar.all-data.csv'\n",
        "df = pd.read_csv(path)\n",
        "print(df.head(5))\n",
        "df.shape"
      ],
      "metadata": {
        "colab": {
          "base_uri": "https://localhost:8080/"
        },
        "id": "Hgt8tuAmivuI",
        "outputId": "27a7600a-3ec4-428d-fecc-e5d1ae3e869e"
      },
      "execution_count": null,
      "outputs": [
        {
          "output_type": "stream",
          "name": "stdout",
          "text": [
            "        1       2       3       4       5       6       7       8       9  \\\n",
            "0  0.0200  0.0371  0.0428  0.0207  0.0954  0.0986  0.1539  0.1601  0.3109   \n",
            "1  0.0453  0.0523  0.0843  0.0689  0.1183  0.2583  0.2156  0.3481  0.3337   \n",
            "2  0.0262  0.0582  0.1099  0.1083  0.0974  0.2280  0.2431  0.3771  0.5598   \n",
            "3  0.0100  0.0171  0.0623  0.0205  0.0205  0.0368  0.1098  0.1276  0.0598   \n",
            "4  0.0762  0.0666  0.0481  0.0394  0.0590  0.0649  0.1209  0.2467  0.3564   \n",
            "\n",
            "       10  ...      52      53      54      55      56      57      58  \\\n",
            "0  0.2111  ...  0.0027  0.0065  0.0159  0.0072  0.0167  0.0180  0.0084   \n",
            "1  0.2872  ...  0.0084  0.0089  0.0048  0.0094  0.0191  0.0140  0.0049   \n",
            "2  0.6194  ...  0.0232  0.0166  0.0095  0.0180  0.0244  0.0316  0.0164   \n",
            "3  0.1264  ...  0.0121  0.0036  0.0150  0.0085  0.0073  0.0050  0.0044   \n",
            "4  0.4459  ...  0.0031  0.0054  0.0105  0.0110  0.0015  0.0072  0.0048   \n",
            "\n",
            "       59      60  61  \n",
            "0  0.0090  0.0032   R  \n",
            "1  0.0052  0.0044   R  \n",
            "2  0.0095  0.0078   R  \n",
            "3  0.0040  0.0117   R  \n",
            "4  0.0107  0.0094   R  \n",
            "\n",
            "[5 rows x 61 columns]\n"
          ]
        },
        {
          "output_type": "execute_result",
          "data": {
            "text/plain": [
              "(208, 61)"
            ]
          },
          "metadata": {},
          "execution_count": 15
        }
      ]
    },
    {
      "cell_type": "code",
      "source": [
        "le = LabelEncoder()\n",
        "label = le.fit_transform(df['61'])\n",
        "df['61'] = label\n",
        "print(df.head(5))"
      ],
      "metadata": {
        "colab": {
          "base_uri": "https://localhost:8080/"
        },
        "id": "l9Is-pZWi59U",
        "outputId": "23498d02-5188-4f5a-d2f8-040a48af5361"
      },
      "execution_count": null,
      "outputs": [
        {
          "output_type": "stream",
          "name": "stdout",
          "text": [
            "        1       2       3       4       5       6       7       8       9  \\\n",
            "0  0.0200  0.0371  0.0428  0.0207  0.0954  0.0986  0.1539  0.1601  0.3109   \n",
            "1  0.0453  0.0523  0.0843  0.0689  0.1183  0.2583  0.2156  0.3481  0.3337   \n",
            "2  0.0262  0.0582  0.1099  0.1083  0.0974  0.2280  0.2431  0.3771  0.5598   \n",
            "3  0.0100  0.0171  0.0623  0.0205  0.0205  0.0368  0.1098  0.1276  0.0598   \n",
            "4  0.0762  0.0666  0.0481  0.0394  0.0590  0.0649  0.1209  0.2467  0.3564   \n",
            "\n",
            "       10  ...      52      53      54      55      56      57      58  \\\n",
            "0  0.2111  ...  0.0027  0.0065  0.0159  0.0072  0.0167  0.0180  0.0084   \n",
            "1  0.2872  ...  0.0084  0.0089  0.0048  0.0094  0.0191  0.0140  0.0049   \n",
            "2  0.6194  ...  0.0232  0.0166  0.0095  0.0180  0.0244  0.0316  0.0164   \n",
            "3  0.1264  ...  0.0121  0.0036  0.0150  0.0085  0.0073  0.0050  0.0044   \n",
            "4  0.4459  ...  0.0031  0.0054  0.0105  0.0110  0.0015  0.0072  0.0048   \n",
            "\n",
            "       59      60  61  \n",
            "0  0.0090  0.0032   1  \n",
            "1  0.0052  0.0044   1  \n",
            "2  0.0095  0.0078   1  \n",
            "3  0.0040  0.0117   1  \n",
            "4  0.0107  0.0094   1  \n",
            "\n",
            "[5 rows x 61 columns]\n"
          ]
        }
      ]
    },
    {
      "cell_type": "code",
      "source": [
        "#Scalling so that every column is given an equal chance\n",
        "from sklearn.preprocessing import StandardScaler\n",
        "scaler = StandardScaler()\n",
        "scaler.fit(df.drop('61', axis = 1))\n",
        "scaled_features = scaler.transform(df.drop('61', axis = 1))\n",
        "scaled_df = pd.DataFrame(scaled_features,columns = df.drop('61', axis = 1).columns)\n",
        "scaled_df"
      ],
      "metadata": {
        "colab": {
          "base_uri": "https://localhost:8080/",
          "height": 488
        },
        "id": "lWRd28Lx0A_B",
        "outputId": "71f2b5aa-9398-45b1-de87-e12378423cfa"
      },
      "execution_count": null,
      "outputs": [
        {
          "output_type": "execute_result",
          "data": {
            "text/plain": [
              "            1         2         3         4         5         6         7  \\\n",
              "0   -0.399551 -0.040648 -0.026926 -0.715105  0.364456 -0.101253  0.521638   \n",
              "1    0.703538  0.421630  1.055618  0.323330  0.777676  2.607217  1.522625   \n",
              "2   -0.129229  0.601067  1.723404  1.172176  0.400545  2.093337  1.968770   \n",
              "3   -0.835555 -0.648910  0.481740 -0.719414 -0.987079 -1.149364 -0.193816   \n",
              "4    2.050790  0.856537  0.111327 -0.312227 -0.292365 -0.672796 -0.013735   \n",
              "..        ...       ...       ...       ...       ...       ...       ...   \n",
              "203 -0.456232 -0.116681 -0.705146 -0.779738 -0.647842  0.990954  1.314965   \n",
              "204  0.136733 -0.861801 -0.366036  0.054026  0.014392 -0.148740 -0.369029   \n",
              "205  1.004381  0.160078 -0.673843 -0.531979 -0.723629  0.212502  0.064137   \n",
              "206  0.049533 -0.095392  0.134804  0.148821 -1.055648  0.522865  0.401585   \n",
              "207 -0.137949 -0.064979 -0.788619 -0.575067 -0.970839 -1.200244 -0.912514   \n",
              "\n",
              "            8         9        10  ...        51        52        53  \\\n",
              "0    0.297843  1.125272  0.021186  ...  0.595283 -1.115432 -0.597604   \n",
              "1    2.510982  1.318325  0.588706  ... -0.297902 -0.522349 -0.256857   \n",
              "2    2.852370  3.232767  3.066105  ... -1.065875  1.017585  0.836373   \n",
              "3   -0.084747 -1.000852 -0.610469  ...  0.670411 -0.137365 -1.009341   \n",
              "4    1.317299  1.510531  1.772220  ... -0.039129 -1.073812 -0.753780   \n",
              "..        ...       ...       ...  ...       ...       ...       ...   \n",
              "203  0.407323  0.463980  0.448504  ...  0.353205 -0.189390 -0.129077   \n",
              "204 -0.388465 -0.635067  0.053253  ... -0.915619 -0.761663 -0.200066   \n",
              "205 -0.200113 -0.442014  0.332912  ... -0.047477  0.268428 -1.108725   \n",
              "206 -0.264859  0.139685  0.202404  ... -0.990747 -0.501539 -0.867363   \n",
              "207  0.061226  0.053319  0.202404  ...  0.169559  0.122759  0.311055   \n",
              "\n",
              "           54        55        56        57        58        59        60  \n",
              "0    0.680897 -0.295646  1.481635  1.763784  0.069870  0.171678 -0.658947  \n",
              "1   -0.843151  0.015503  1.901046  1.070732 -0.472406 -0.444554 -0.419852  \n",
              "2   -0.197833  1.231812  2.827246  4.120162  1.309360  0.252761  0.257582  \n",
              "3    0.557326 -0.111785 -0.161060 -0.488635 -0.549875 -0.639154  1.034640  \n",
              "4   -0.060532  0.241793 -1.174638 -0.107456 -0.487900  0.447361  0.576375  \n",
              "..        ...       ...       ...       ...       ...       ...       ...  \n",
              "203  1.230104 -0.847228  0.328253 -0.228741  0.550172  1.841992  1.831621  \n",
              "204  0.351373 -0.422934 -0.335815 -0.765856 -0.735798 -0.282388  0.038412  \n",
              "205 -0.801960 -0.437077  0.118548  1.070732  0.906526 -0.039138 -0.678871  \n",
              "206  0.227802 -0.804798 -0.825128 -0.765856 -0.007598 -0.704020 -0.340154  \n",
              "207 -0.856881 -0.762369 -0.370766 -0.661898 -0.673823 -0.298604  0.994790  \n",
              "\n",
              "[208 rows x 60 columns]"
            ],
            "text/html": [
              "\n",
              "  <div id=\"df-bbb3df06-63e4-4343-8b6c-b8ced5637a27\">\n",
              "    <div class=\"colab-df-container\">\n",
              "      <div>\n",
              "<style scoped>\n",
              "    .dataframe tbody tr th:only-of-type {\n",
              "        vertical-align: middle;\n",
              "    }\n",
              "\n",
              "    .dataframe tbody tr th {\n",
              "        vertical-align: top;\n",
              "    }\n",
              "\n",
              "    .dataframe thead th {\n",
              "        text-align: right;\n",
              "    }\n",
              "</style>\n",
              "<table border=\"1\" class=\"dataframe\">\n",
              "  <thead>\n",
              "    <tr style=\"text-align: right;\">\n",
              "      <th></th>\n",
              "      <th>1</th>\n",
              "      <th>2</th>\n",
              "      <th>3</th>\n",
              "      <th>4</th>\n",
              "      <th>5</th>\n",
              "      <th>6</th>\n",
              "      <th>7</th>\n",
              "      <th>8</th>\n",
              "      <th>9</th>\n",
              "      <th>10</th>\n",
              "      <th>...</th>\n",
              "      <th>51</th>\n",
              "      <th>52</th>\n",
              "      <th>53</th>\n",
              "      <th>54</th>\n",
              "      <th>55</th>\n",
              "      <th>56</th>\n",
              "      <th>57</th>\n",
              "      <th>58</th>\n",
              "      <th>59</th>\n",
              "      <th>60</th>\n",
              "    </tr>\n",
              "  </thead>\n",
              "  <tbody>\n",
              "    <tr>\n",
              "      <th>0</th>\n",
              "      <td>-0.399551</td>\n",
              "      <td>-0.040648</td>\n",
              "      <td>-0.026926</td>\n",
              "      <td>-0.715105</td>\n",
              "      <td>0.364456</td>\n",
              "      <td>-0.101253</td>\n",
              "      <td>0.521638</td>\n",
              "      <td>0.297843</td>\n",
              "      <td>1.125272</td>\n",
              "      <td>0.021186</td>\n",
              "      <td>...</td>\n",
              "      <td>0.595283</td>\n",
              "      <td>-1.115432</td>\n",
              "      <td>-0.597604</td>\n",
              "      <td>0.680897</td>\n",
              "      <td>-0.295646</td>\n",
              "      <td>1.481635</td>\n",
              "      <td>1.763784</td>\n",
              "      <td>0.069870</td>\n",
              "      <td>0.171678</td>\n",
              "      <td>-0.658947</td>\n",
              "    </tr>\n",
              "    <tr>\n",
              "      <th>1</th>\n",
              "      <td>0.703538</td>\n",
              "      <td>0.421630</td>\n",
              "      <td>1.055618</td>\n",
              "      <td>0.323330</td>\n",
              "      <td>0.777676</td>\n",
              "      <td>2.607217</td>\n",
              "      <td>1.522625</td>\n",
              "      <td>2.510982</td>\n",
              "      <td>1.318325</td>\n",
              "      <td>0.588706</td>\n",
              "      <td>...</td>\n",
              "      <td>-0.297902</td>\n",
              "      <td>-0.522349</td>\n",
              "      <td>-0.256857</td>\n",
              "      <td>-0.843151</td>\n",
              "      <td>0.015503</td>\n",
              "      <td>1.901046</td>\n",
              "      <td>1.070732</td>\n",
              "      <td>-0.472406</td>\n",
              "      <td>-0.444554</td>\n",
              "      <td>-0.419852</td>\n",
              "    </tr>\n",
              "    <tr>\n",
              "      <th>2</th>\n",
              "      <td>-0.129229</td>\n",
              "      <td>0.601067</td>\n",
              "      <td>1.723404</td>\n",
              "      <td>1.172176</td>\n",
              "      <td>0.400545</td>\n",
              "      <td>2.093337</td>\n",
              "      <td>1.968770</td>\n",
              "      <td>2.852370</td>\n",
              "      <td>3.232767</td>\n",
              "      <td>3.066105</td>\n",
              "      <td>...</td>\n",
              "      <td>-1.065875</td>\n",
              "      <td>1.017585</td>\n",
              "      <td>0.836373</td>\n",
              "      <td>-0.197833</td>\n",
              "      <td>1.231812</td>\n",
              "      <td>2.827246</td>\n",
              "      <td>4.120162</td>\n",
              "      <td>1.309360</td>\n",
              "      <td>0.252761</td>\n",
              "      <td>0.257582</td>\n",
              "    </tr>\n",
              "    <tr>\n",
              "      <th>3</th>\n",
              "      <td>-0.835555</td>\n",
              "      <td>-0.648910</td>\n",
              "      <td>0.481740</td>\n",
              "      <td>-0.719414</td>\n",
              "      <td>-0.987079</td>\n",
              "      <td>-1.149364</td>\n",
              "      <td>-0.193816</td>\n",
              "      <td>-0.084747</td>\n",
              "      <td>-1.000852</td>\n",
              "      <td>-0.610469</td>\n",
              "      <td>...</td>\n",
              "      <td>0.670411</td>\n",
              "      <td>-0.137365</td>\n",
              "      <td>-1.009341</td>\n",
              "      <td>0.557326</td>\n",
              "      <td>-0.111785</td>\n",
              "      <td>-0.161060</td>\n",
              "      <td>-0.488635</td>\n",
              "      <td>-0.549875</td>\n",
              "      <td>-0.639154</td>\n",
              "      <td>1.034640</td>\n",
              "    </tr>\n",
              "    <tr>\n",
              "      <th>4</th>\n",
              "      <td>2.050790</td>\n",
              "      <td>0.856537</td>\n",
              "      <td>0.111327</td>\n",
              "      <td>-0.312227</td>\n",
              "      <td>-0.292365</td>\n",
              "      <td>-0.672796</td>\n",
              "      <td>-0.013735</td>\n",
              "      <td>1.317299</td>\n",
              "      <td>1.510531</td>\n",
              "      <td>1.772220</td>\n",
              "      <td>...</td>\n",
              "      <td>-0.039129</td>\n",
              "      <td>-1.073812</td>\n",
              "      <td>-0.753780</td>\n",
              "      <td>-0.060532</td>\n",
              "      <td>0.241793</td>\n",
              "      <td>-1.174638</td>\n",
              "      <td>-0.107456</td>\n",
              "      <td>-0.487900</td>\n",
              "      <td>0.447361</td>\n",
              "      <td>0.576375</td>\n",
              "    </tr>\n",
              "    <tr>\n",
              "      <th>...</th>\n",
              "      <td>...</td>\n",
              "      <td>...</td>\n",
              "      <td>...</td>\n",
              "      <td>...</td>\n",
              "      <td>...</td>\n",
              "      <td>...</td>\n",
              "      <td>...</td>\n",
              "      <td>...</td>\n",
              "      <td>...</td>\n",
              "      <td>...</td>\n",
              "      <td>...</td>\n",
              "      <td>...</td>\n",
              "      <td>...</td>\n",
              "      <td>...</td>\n",
              "      <td>...</td>\n",
              "      <td>...</td>\n",
              "      <td>...</td>\n",
              "      <td>...</td>\n",
              "      <td>...</td>\n",
              "      <td>...</td>\n",
              "      <td>...</td>\n",
              "    </tr>\n",
              "    <tr>\n",
              "      <th>203</th>\n",
              "      <td>-0.456232</td>\n",
              "      <td>-0.116681</td>\n",
              "      <td>-0.705146</td>\n",
              "      <td>-0.779738</td>\n",
              "      <td>-0.647842</td>\n",
              "      <td>0.990954</td>\n",
              "      <td>1.314965</td>\n",
              "      <td>0.407323</td>\n",
              "      <td>0.463980</td>\n",
              "      <td>0.448504</td>\n",
              "      <td>...</td>\n",
              "      <td>0.353205</td>\n",
              "      <td>-0.189390</td>\n",
              "      <td>-0.129077</td>\n",
              "      <td>1.230104</td>\n",
              "      <td>-0.847228</td>\n",
              "      <td>0.328253</td>\n",
              "      <td>-0.228741</td>\n",
              "      <td>0.550172</td>\n",
              "      <td>1.841992</td>\n",
              "      <td>1.831621</td>\n",
              "    </tr>\n",
              "    <tr>\n",
              "      <th>204</th>\n",
              "      <td>0.136733</td>\n",
              "      <td>-0.861801</td>\n",
              "      <td>-0.366036</td>\n",
              "      <td>0.054026</td>\n",
              "      <td>0.014392</td>\n",
              "      <td>-0.148740</td>\n",
              "      <td>-0.369029</td>\n",
              "      <td>-0.388465</td>\n",
              "      <td>-0.635067</td>\n",
              "      <td>0.053253</td>\n",
              "      <td>...</td>\n",
              "      <td>-0.915619</td>\n",
              "      <td>-0.761663</td>\n",
              "      <td>-0.200066</td>\n",
              "      <td>0.351373</td>\n",
              "      <td>-0.422934</td>\n",
              "      <td>-0.335815</td>\n",
              "      <td>-0.765856</td>\n",
              "      <td>-0.735798</td>\n",
              "      <td>-0.282388</td>\n",
              "      <td>0.038412</td>\n",
              "    </tr>\n",
              "    <tr>\n",
              "      <th>205</th>\n",
              "      <td>1.004381</td>\n",
              "      <td>0.160078</td>\n",
              "      <td>-0.673843</td>\n",
              "      <td>-0.531979</td>\n",
              "      <td>-0.723629</td>\n",
              "      <td>0.212502</td>\n",
              "      <td>0.064137</td>\n",
              "      <td>-0.200113</td>\n",
              "      <td>-0.442014</td>\n",
              "      <td>0.332912</td>\n",
              "      <td>...</td>\n",
              "      <td>-0.047477</td>\n",
              "      <td>0.268428</td>\n",
              "      <td>-1.108725</td>\n",
              "      <td>-0.801960</td>\n",
              "      <td>-0.437077</td>\n",
              "      <td>0.118548</td>\n",
              "      <td>1.070732</td>\n",
              "      <td>0.906526</td>\n",
              "      <td>-0.039138</td>\n",
              "      <td>-0.678871</td>\n",
              "    </tr>\n",
              "    <tr>\n",
              "      <th>206</th>\n",
              "      <td>0.049533</td>\n",
              "      <td>-0.095392</td>\n",
              "      <td>0.134804</td>\n",
              "      <td>0.148821</td>\n",
              "      <td>-1.055648</td>\n",
              "      <td>0.522865</td>\n",
              "      <td>0.401585</td>\n",
              "      <td>-0.264859</td>\n",
              "      <td>0.139685</td>\n",
              "      <td>0.202404</td>\n",
              "      <td>...</td>\n",
              "      <td>-0.990747</td>\n",
              "      <td>-0.501539</td>\n",
              "      <td>-0.867363</td>\n",
              "      <td>0.227802</td>\n",
              "      <td>-0.804798</td>\n",
              "      <td>-0.825128</td>\n",
              "      <td>-0.765856</td>\n",
              "      <td>-0.007598</td>\n",
              "      <td>-0.704020</td>\n",
              "      <td>-0.340154</td>\n",
              "    </tr>\n",
              "    <tr>\n",
              "      <th>207</th>\n",
              "      <td>-0.137949</td>\n",
              "      <td>-0.064979</td>\n",
              "      <td>-0.788619</td>\n",
              "      <td>-0.575067</td>\n",
              "      <td>-0.970839</td>\n",
              "      <td>-1.200244</td>\n",
              "      <td>-0.912514</td>\n",
              "      <td>0.061226</td>\n",
              "      <td>0.053319</td>\n",
              "      <td>0.202404</td>\n",
              "      <td>...</td>\n",
              "      <td>0.169559</td>\n",
              "      <td>0.122759</td>\n",
              "      <td>0.311055</td>\n",
              "      <td>-0.856881</td>\n",
              "      <td>-0.762369</td>\n",
              "      <td>-0.370766</td>\n",
              "      <td>-0.661898</td>\n",
              "      <td>-0.673823</td>\n",
              "      <td>-0.298604</td>\n",
              "      <td>0.994790</td>\n",
              "    </tr>\n",
              "  </tbody>\n",
              "</table>\n",
              "<p>208 rows × 60 columns</p>\n",
              "</div>\n",
              "      <button class=\"colab-df-convert\" onclick=\"convertToInteractive('df-bbb3df06-63e4-4343-8b6c-b8ced5637a27')\"\n",
              "              title=\"Convert this dataframe to an interactive table.\"\n",
              "              style=\"display:none;\">\n",
              "        \n",
              "  <svg xmlns=\"http://www.w3.org/2000/svg\" height=\"24px\"viewBox=\"0 0 24 24\"\n",
              "       width=\"24px\">\n",
              "    <path d=\"M0 0h24v24H0V0z\" fill=\"none\"/>\n",
              "    <path d=\"M18.56 5.44l.94 2.06.94-2.06 2.06-.94-2.06-.94-.94-2.06-.94 2.06-2.06.94zm-11 1L8.5 8.5l.94-2.06 2.06-.94-2.06-.94L8.5 2.5l-.94 2.06-2.06.94zm10 10l.94 2.06.94-2.06 2.06-.94-2.06-.94-.94-2.06-.94 2.06-2.06.94z\"/><path d=\"M17.41 7.96l-1.37-1.37c-.4-.4-.92-.59-1.43-.59-.52 0-1.04.2-1.43.59L10.3 9.45l-7.72 7.72c-.78.78-.78 2.05 0 2.83L4 21.41c.39.39.9.59 1.41.59.51 0 1.02-.2 1.41-.59l7.78-7.78 2.81-2.81c.8-.78.8-2.07 0-2.86zM5.41 20L4 18.59l7.72-7.72 1.47 1.35L5.41 20z\"/>\n",
              "  </svg>\n",
              "      </button>\n",
              "      \n",
              "  <style>\n",
              "    .colab-df-container {\n",
              "      display:flex;\n",
              "      flex-wrap:wrap;\n",
              "      gap: 12px;\n",
              "    }\n",
              "\n",
              "    .colab-df-convert {\n",
              "      background-color: #E8F0FE;\n",
              "      border: none;\n",
              "      border-radius: 50%;\n",
              "      cursor: pointer;\n",
              "      display: none;\n",
              "      fill: #1967D2;\n",
              "      height: 32px;\n",
              "      padding: 0 0 0 0;\n",
              "      width: 32px;\n",
              "    }\n",
              "\n",
              "    .colab-df-convert:hover {\n",
              "      background-color: #E2EBFA;\n",
              "      box-shadow: 0px 1px 2px rgba(60, 64, 67, 0.3), 0px 1px 3px 1px rgba(60, 64, 67, 0.15);\n",
              "      fill: #174EA6;\n",
              "    }\n",
              "\n",
              "    [theme=dark] .colab-df-convert {\n",
              "      background-color: #3B4455;\n",
              "      fill: #D2E3FC;\n",
              "    }\n",
              "\n",
              "    [theme=dark] .colab-df-convert:hover {\n",
              "      background-color: #434B5C;\n",
              "      box-shadow: 0px 1px 3px 1px rgba(0, 0, 0, 0.15);\n",
              "      filter: drop-shadow(0px 1px 2px rgba(0, 0, 0, 0.3));\n",
              "      fill: #FFFFFF;\n",
              "    }\n",
              "  </style>\n",
              "\n",
              "      <script>\n",
              "        const buttonEl =\n",
              "          document.querySelector('#df-bbb3df06-63e4-4343-8b6c-b8ced5637a27 button.colab-df-convert');\n",
              "        buttonEl.style.display =\n",
              "          google.colab.kernel.accessAllowed ? 'block' : 'none';\n",
              "\n",
              "        async function convertToInteractive(key) {\n",
              "          const element = document.querySelector('#df-bbb3df06-63e4-4343-8b6c-b8ced5637a27');\n",
              "          const dataTable =\n",
              "            await google.colab.kernel.invokeFunction('convertToInteractive',\n",
              "                                                     [key], {});\n",
              "          if (!dataTable) return;\n",
              "\n",
              "          const docLinkHtml = 'Like what you see? Visit the ' +\n",
              "            '<a target=\"_blank\" href=https://colab.research.google.com/notebooks/data_table.ipynb>data table notebook</a>'\n",
              "            + ' to learn more about interactive tables.';\n",
              "          element.innerHTML = '';\n",
              "          dataTable['output_type'] = 'display_data';\n",
              "          await google.colab.output.renderOutput(dataTable, element);\n",
              "          const docLink = document.createElement('div');\n",
              "          docLink.innerHTML = docLinkHtml;\n",
              "          element.appendChild(docLink);\n",
              "        }\n",
              "      </script>\n",
              "    </div>\n",
              "  </div>\n",
              "  "
            ]
          },
          "metadata": {},
          "execution_count": 17
        }
      ]
    },
    {
      "cell_type": "markdown",
      "source": [
        "Steps for KNN\n",
        "\n",
        "Take a random record and remove from data.\n",
        "\n",
        "For each record in data: compute the distance between xq and the point,store the distance\n",
        "\n",
        "Take the 3 smallest distances bcoz k=3\n",
        "\n",
        "Take majority out of 3"
      ],
      "metadata": {
        "id": "3W9qsaR4vn0k"
      }
    },
    {
      "cell_type": "code",
      "source": [
        "#taking random record and storing in xq\n",
        "xq = scaled_df.sample()\n",
        "print(xq)"
      ],
      "metadata": {
        "colab": {
          "base_uri": "https://localhost:8080/"
        },
        "id": "P-3iny5Auhhl",
        "outputId": "c33f2d20-d5b9-4c7d-8f80-adb4d271a6e9"
      },
      "execution_count": null,
      "outputs": [
        {
          "output_type": "stream",
          "name": "stdout",
          "text": [
            "           1         2         3         4        5         6         7  \\\n",
            "54 -0.696034 -0.925669 -0.652975 -0.857298 -0.57025 -0.640572 -0.987142   \n",
            "\n",
            "           8         9        10  ...       51        52        53        54  \\\n",
            "54 -1.432643 -0.745988 -0.865517  ... -0.20608 -0.938547 -1.122923 -1.213865   \n",
            "\n",
            "          55        56       57        58        59        60  \n",
            "54 -1.002802 -0.597947  1.03608  0.937513 -0.833754 -0.021361  \n",
            "\n",
            "[1 rows x 60 columns]\n"
          ]
        }
      ]
    },
    {
      "cell_type": "code",
      "source": [
        "# droping the xq from data using index value\n",
        "df.drop(xq.index, inplace=True)"
      ],
      "metadata": {
        "id": "IeLa0Yhbtmfg"
      },
      "execution_count": null,
      "outputs": []
    },
    {
      "cell_type": "code",
      "source": [
        "df.shape"
      ],
      "metadata": {
        "colab": {
          "base_uri": "https://localhost:8080/"
        },
        "id": "gdFg-2I3v3PR",
        "outputId": "e2e561ff-8c49-47a0-980f-12c52f2e68c3"
      },
      "execution_count": null,
      "outputs": [
        {
          "output_type": "execute_result",
          "data": {
            "text/plain": [
              "(207, 61)"
            ]
          },
          "metadata": {},
          "execution_count": 30
        }
      ]
    },
    {
      "cell_type": "code",
      "source": [
        "def cal_distance(x):      \n",
        "    a = x.to_numpy()\n",
        "    b = xq.to_numpy()    \n",
        "    distance = math.sqrt(sum([(a - b) ** 2 for a, b in zip(a, b[0])]))\n",
        "    return distance"
      ],
      "metadata": {
        "id": "NePAPu_ZwAFv"
      },
      "execution_count": null,
      "outputs": []
    },
    {
      "cell_type": "code",
      "source": [
        "scaled_df['distance'] = scaled_df.apply(cal_distance, axis=1)\n",
        "\n"
      ],
      "metadata": {
        "id": "FDuUF7xW0q3k"
      },
      "execution_count": null,
      "outputs": []
    },
    {
      "cell_type": "code",
      "source": [
        "scaled_df_sort = scaled_df.sort_values('distance',ascending=True)"
      ],
      "metadata": {
        "id": "V9phtdFY1-iW"
      },
      "execution_count": null,
      "outputs": []
    },
    {
      "cell_type": "code",
      "source": [
        "df_after_sort = scaled_df.head(1)\n"
      ],
      "metadata": {
        "id": "dvIzYxBi1-oR"
      },
      "execution_count": null,
      "outputs": []
    },
    {
      "cell_type": "code",
      "source": [
        "count = [0 for i in range(0, len(df['61'].unique()))]\n",
        "for xi in range(0, len(df_after_sort)):       \n",
        "    if df_after_sort.iloc[xi]['61'] == 1:        \n",
        "        count[0] = count[0]+1\n",
        "    elif df_after_sort.iloc[xi]['61'] == 2:        \n",
        "        count[1] = count[1]+1"
      ],
      "metadata": {
        "colab": {
          "base_uri": "https://localhost:8080/",
          "height": 585
        },
        "id": "fBuZ6xr350WM",
        "outputId": "cb59e2b4-a7ac-4459-c62d-95ad58f25095"
      },
      "execution_count": null,
      "outputs": [
        {
          "output_type": "error",
          "ename": "KeyError",
          "evalue": "ignored",
          "traceback": [
            "\u001b[0;31m---------------------------------------------------------------------------\u001b[0m",
            "\u001b[0;31mKeyError\u001b[0m                                  Traceback (most recent call last)",
            "\u001b[0;32m/usr/local/lib/python3.8/dist-packages/pandas/core/indexes/base.py\u001b[0m in \u001b[0;36mget_loc\u001b[0;34m(self, key, method, tolerance)\u001b[0m\n\u001b[1;32m   3360\u001b[0m             \u001b[0;32mtry\u001b[0m\u001b[0;34m:\u001b[0m\u001b[0;34m\u001b[0m\u001b[0;34m\u001b[0m\u001b[0m\n\u001b[0;32m-> 3361\u001b[0;31m                 \u001b[0;32mreturn\u001b[0m \u001b[0mself\u001b[0m\u001b[0;34m.\u001b[0m\u001b[0m_engine\u001b[0m\u001b[0;34m.\u001b[0m\u001b[0mget_loc\u001b[0m\u001b[0;34m(\u001b[0m\u001b[0mcasted_key\u001b[0m\u001b[0;34m)\u001b[0m\u001b[0;34m\u001b[0m\u001b[0;34m\u001b[0m\u001b[0m\n\u001b[0m\u001b[1;32m   3362\u001b[0m             \u001b[0;32mexcept\u001b[0m \u001b[0mKeyError\u001b[0m \u001b[0;32mas\u001b[0m \u001b[0merr\u001b[0m\u001b[0;34m:\u001b[0m\u001b[0;34m\u001b[0m\u001b[0;34m\u001b[0m\u001b[0m\n",
            "\u001b[0;32m/usr/local/lib/python3.8/dist-packages/pandas/_libs/index.pyx\u001b[0m in \u001b[0;36mpandas._libs.index.IndexEngine.get_loc\u001b[0;34m()\u001b[0m\n",
            "\u001b[0;32m/usr/local/lib/python3.8/dist-packages/pandas/_libs/index.pyx\u001b[0m in \u001b[0;36mpandas._libs.index.IndexEngine.get_loc\u001b[0;34m()\u001b[0m\n",
            "\u001b[0;32mpandas/_libs/hashtable_class_helper.pxi\u001b[0m in \u001b[0;36mpandas._libs.hashtable.PyObjectHashTable.get_item\u001b[0;34m()\u001b[0m\n",
            "\u001b[0;32mpandas/_libs/hashtable_class_helper.pxi\u001b[0m in \u001b[0;36mpandas._libs.hashtable.PyObjectHashTable.get_item\u001b[0;34m()\u001b[0m\n",
            "\u001b[0;31mKeyError\u001b[0m: '61'",
            "\nThe above exception was the direct cause of the following exception:\n",
            "\u001b[0;31mKeyError\u001b[0m                                  Traceback (most recent call last)",
            "\u001b[0;32m<ipython-input-29-627c302affc6>\u001b[0m in \u001b[0;36m<module>\u001b[0;34m\u001b[0m\n\u001b[1;32m      1\u001b[0m \u001b[0mcount\u001b[0m \u001b[0;34m=\u001b[0m \u001b[0;34m[\u001b[0m\u001b[0;36m0\u001b[0m \u001b[0;32mfor\u001b[0m \u001b[0mi\u001b[0m \u001b[0;32min\u001b[0m \u001b[0mrange\u001b[0m\u001b[0;34m(\u001b[0m\u001b[0;36m0\u001b[0m\u001b[0;34m,\u001b[0m \u001b[0mlen\u001b[0m\u001b[0;34m(\u001b[0m\u001b[0mdf\u001b[0m\u001b[0;34m[\u001b[0m\u001b[0;34m'61'\u001b[0m\u001b[0;34m]\u001b[0m\u001b[0;34m.\u001b[0m\u001b[0munique\u001b[0m\u001b[0;34m(\u001b[0m\u001b[0;34m)\u001b[0m\u001b[0;34m)\u001b[0m\u001b[0;34m)\u001b[0m\u001b[0;34m]\u001b[0m\u001b[0;34m\u001b[0m\u001b[0;34m\u001b[0m\u001b[0m\n\u001b[1;32m      2\u001b[0m \u001b[0;32mfor\u001b[0m \u001b[0mxi\u001b[0m \u001b[0;32min\u001b[0m \u001b[0mrange\u001b[0m\u001b[0;34m(\u001b[0m\u001b[0;36m0\u001b[0m\u001b[0;34m,\u001b[0m \u001b[0mlen\u001b[0m\u001b[0;34m(\u001b[0m\u001b[0mdf_after_sort\u001b[0m\u001b[0;34m)\u001b[0m\u001b[0;34m)\u001b[0m\u001b[0;34m:\u001b[0m\u001b[0;34m\u001b[0m\u001b[0;34m\u001b[0m\u001b[0m\n\u001b[0;32m----> 3\u001b[0;31m     \u001b[0;32mif\u001b[0m \u001b[0mdf_after_sort\u001b[0m\u001b[0;34m.\u001b[0m\u001b[0miloc\u001b[0m\u001b[0;34m[\u001b[0m\u001b[0mxi\u001b[0m\u001b[0;34m]\u001b[0m\u001b[0;34m[\u001b[0m\u001b[0;34m'61'\u001b[0m\u001b[0;34m]\u001b[0m \u001b[0;34m==\u001b[0m \u001b[0;36m1\u001b[0m\u001b[0;34m:\u001b[0m\u001b[0;34m\u001b[0m\u001b[0;34m\u001b[0m\u001b[0m\n\u001b[0m\u001b[1;32m      4\u001b[0m         \u001b[0mcount\u001b[0m\u001b[0;34m[\u001b[0m\u001b[0;36m0\u001b[0m\u001b[0;34m]\u001b[0m \u001b[0;34m=\u001b[0m \u001b[0mcount\u001b[0m\u001b[0;34m[\u001b[0m\u001b[0;36m0\u001b[0m\u001b[0;34m]\u001b[0m\u001b[0;34m+\u001b[0m\u001b[0;36m1\u001b[0m\u001b[0;34m\u001b[0m\u001b[0;34m\u001b[0m\u001b[0m\n\u001b[1;32m      5\u001b[0m     \u001b[0;32melif\u001b[0m \u001b[0mdf_after_sort\u001b[0m\u001b[0;34m.\u001b[0m\u001b[0miloc\u001b[0m\u001b[0;34m[\u001b[0m\u001b[0mxi\u001b[0m\u001b[0;34m]\u001b[0m\u001b[0;34m[\u001b[0m\u001b[0;34m'61'\u001b[0m\u001b[0;34m]\u001b[0m \u001b[0;34m==\u001b[0m \u001b[0;36m2\u001b[0m\u001b[0;34m:\u001b[0m\u001b[0;34m\u001b[0m\u001b[0;34m\u001b[0m\u001b[0m\n",
            "\u001b[0;32m/usr/local/lib/python3.8/dist-packages/pandas/core/series.py\u001b[0m in \u001b[0;36m__getitem__\u001b[0;34m(self, key)\u001b[0m\n\u001b[1;32m    940\u001b[0m \u001b[0;34m\u001b[0m\u001b[0m\n\u001b[1;32m    941\u001b[0m         \u001b[0;32melif\u001b[0m \u001b[0mkey_is_scalar\u001b[0m\u001b[0;34m:\u001b[0m\u001b[0;34m\u001b[0m\u001b[0;34m\u001b[0m\u001b[0m\n\u001b[0;32m--> 942\u001b[0;31m             \u001b[0;32mreturn\u001b[0m \u001b[0mself\u001b[0m\u001b[0;34m.\u001b[0m\u001b[0m_get_value\u001b[0m\u001b[0;34m(\u001b[0m\u001b[0mkey\u001b[0m\u001b[0;34m)\u001b[0m\u001b[0;34m\u001b[0m\u001b[0;34m\u001b[0m\u001b[0m\n\u001b[0m\u001b[1;32m    943\u001b[0m \u001b[0;34m\u001b[0m\u001b[0m\n\u001b[1;32m    944\u001b[0m         \u001b[0;32mif\u001b[0m \u001b[0mis_hashable\u001b[0m\u001b[0;34m(\u001b[0m\u001b[0mkey\u001b[0m\u001b[0;34m)\u001b[0m\u001b[0;34m:\u001b[0m\u001b[0;34m\u001b[0m\u001b[0;34m\u001b[0m\u001b[0m\n",
            "\u001b[0;32m/usr/local/lib/python3.8/dist-packages/pandas/core/series.py\u001b[0m in \u001b[0;36m_get_value\u001b[0;34m(self, label, takeable)\u001b[0m\n\u001b[1;32m   1049\u001b[0m \u001b[0;34m\u001b[0m\u001b[0m\n\u001b[1;32m   1050\u001b[0m         \u001b[0;31m# Similar to Index.get_value, but we do not fall back to positional\u001b[0m\u001b[0;34m\u001b[0m\u001b[0;34m\u001b[0m\u001b[0;34m\u001b[0m\u001b[0m\n\u001b[0;32m-> 1051\u001b[0;31m         \u001b[0mloc\u001b[0m \u001b[0;34m=\u001b[0m \u001b[0mself\u001b[0m\u001b[0;34m.\u001b[0m\u001b[0mindex\u001b[0m\u001b[0;34m.\u001b[0m\u001b[0mget_loc\u001b[0m\u001b[0;34m(\u001b[0m\u001b[0mlabel\u001b[0m\u001b[0;34m)\u001b[0m\u001b[0;34m\u001b[0m\u001b[0;34m\u001b[0m\u001b[0m\n\u001b[0m\u001b[1;32m   1052\u001b[0m         \u001b[0;32mreturn\u001b[0m \u001b[0mself\u001b[0m\u001b[0;34m.\u001b[0m\u001b[0mindex\u001b[0m\u001b[0;34m.\u001b[0m\u001b[0m_get_values_for_loc\u001b[0m\u001b[0;34m(\u001b[0m\u001b[0mself\u001b[0m\u001b[0;34m,\u001b[0m \u001b[0mloc\u001b[0m\u001b[0;34m,\u001b[0m \u001b[0mlabel\u001b[0m\u001b[0;34m)\u001b[0m\u001b[0;34m\u001b[0m\u001b[0;34m\u001b[0m\u001b[0m\n\u001b[1;32m   1053\u001b[0m \u001b[0;34m\u001b[0m\u001b[0m\n",
            "\u001b[0;32m/usr/local/lib/python3.8/dist-packages/pandas/core/indexes/base.py\u001b[0m in \u001b[0;36mget_loc\u001b[0;34m(self, key, method, tolerance)\u001b[0m\n\u001b[1;32m   3361\u001b[0m                 \u001b[0;32mreturn\u001b[0m \u001b[0mself\u001b[0m\u001b[0;34m.\u001b[0m\u001b[0m_engine\u001b[0m\u001b[0;34m.\u001b[0m\u001b[0mget_loc\u001b[0m\u001b[0;34m(\u001b[0m\u001b[0mcasted_key\u001b[0m\u001b[0;34m)\u001b[0m\u001b[0;34m\u001b[0m\u001b[0;34m\u001b[0m\u001b[0m\n\u001b[1;32m   3362\u001b[0m             \u001b[0;32mexcept\u001b[0m \u001b[0mKeyError\u001b[0m \u001b[0;32mas\u001b[0m \u001b[0merr\u001b[0m\u001b[0;34m:\u001b[0m\u001b[0;34m\u001b[0m\u001b[0;34m\u001b[0m\u001b[0m\n\u001b[0;32m-> 3363\u001b[0;31m                 \u001b[0;32mraise\u001b[0m \u001b[0mKeyError\u001b[0m\u001b[0;34m(\u001b[0m\u001b[0mkey\u001b[0m\u001b[0;34m)\u001b[0m \u001b[0;32mfrom\u001b[0m \u001b[0merr\u001b[0m\u001b[0;34m\u001b[0m\u001b[0;34m\u001b[0m\u001b[0m\n\u001b[0m\u001b[1;32m   3364\u001b[0m \u001b[0;34m\u001b[0m\u001b[0m\n\u001b[1;32m   3365\u001b[0m         \u001b[0;32mif\u001b[0m \u001b[0mis_scalar\u001b[0m\u001b[0;34m(\u001b[0m\u001b[0mkey\u001b[0m\u001b[0;34m)\u001b[0m \u001b[0;32mand\u001b[0m \u001b[0misna\u001b[0m\u001b[0;34m(\u001b[0m\u001b[0mkey\u001b[0m\u001b[0;34m)\u001b[0m \u001b[0;32mand\u001b[0m \u001b[0;32mnot\u001b[0m \u001b[0mself\u001b[0m\u001b[0;34m.\u001b[0m\u001b[0mhasnans\u001b[0m\u001b[0;34m:\u001b[0m\u001b[0;34m\u001b[0m\u001b[0;34m\u001b[0m\u001b[0m\n",
            "\u001b[0;31mKeyError\u001b[0m: '61'"
          ]
        }
      ]
    },
    {
      "cell_type": "code",
      "source": [
        "def max_num_in_list_label(list):\n",
        "    maxpos = list.index(max(list)) +1\n",
        "    return labels[maxpos]"
      ],
      "metadata": {
        "id": "2aUfoP626Lt_"
      },
      "execution_count": null,
      "outputs": []
    }
  ]
}