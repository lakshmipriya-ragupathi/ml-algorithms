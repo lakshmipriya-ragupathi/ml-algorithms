{
  "nbformat": 4,
  "nbformat_minor": 0,
  "metadata": {
    "colab": {
      "provenance": [],
      "authorship_tag": "ABX9TyN+u5Pum4dru+3IxyYTPpe9",
      "include_colab_link": true
    },
    "kernelspec": {
      "name": "python3",
      "display_name": "Python 3"
    },
    "language_info": {
      "name": "python"
    }
  },
  "cells": [
    {
      "cell_type": "markdown",
      "metadata": {
        "id": "view-in-github",
        "colab_type": "text"
      },
      "source": [
        "<a href=\"https://colab.research.google.com/github/lakshmipriya-ragupathi/ml_algorithms/blob/main/LDA.ipynb\" target=\"_parent\"><img src=\"https://colab.research.google.com/assets/colab-badge.svg\" alt=\"Open In Colab\"/></a>"
      ]
    },
    {
      "cell_type": "code",
      "execution_count": null,
      "metadata": {
        "colab": {
          "base_uri": "https://localhost:8080/"
        },
        "id": "3eQKa8f1Tkmx",
        "outputId": "f3202ab8-e349-4050-e675-5106a9cb0509"
      },
      "outputs": [
        {
          "output_type": "stream",
          "name": "stdout",
          "text": [
            "Mounted at /content/drive\n"
          ]
        }
      ],
      "source": [
        "from google.colab import drive\n",
        "drive.mount('/content/drive')"
      ]
    },
    {
      "cell_type": "code",
      "source": [
        "import pandas as pd\n",
        "import numpy as np\n",
        "import matplotlib.pyplot as plt\n",
        "import seaborn as sns\n",
        "from google.colab import drive\n",
        "from sklearn.model_selection import train_test_split\n",
        "from sklearn.preprocessing import StandardScaler\n",
        "from sklearn.preprocessing import LabelEncoder"
      ],
      "metadata": {
        "id": "bJgzdzBrT2LT"
      },
      "execution_count": null,
      "outputs": []
    },
    {
      "cell_type": "code",
      "source": [
        "path = \"/content/drive/MyDrive/DAY-5/pima-indians-diabetes.csv\"\n",
        "\n",
        "df = pd.read_csv(path)\n",
        "print(df.head(5))"
      ],
      "metadata": {
        "colab": {
          "base_uri": "https://localhost:8080/"
        },
        "id": "Cl_ra7BCT4X3",
        "outputId": "241f494f-4d25-479c-d99c-84b691fc208a"
      },
      "execution_count": null,
      "outputs": [
        {
          "output_type": "stream",
          "name": "stdout",
          "text": [
            "   X1   X2  X3  X4   X5    X6     X7  X8  target\n",
            "0   6  148  72  35    0  33.6  0.627  50       1\n",
            "1   1   85  66  29    0  26.6  0.351  31       0\n",
            "2   8  183  64   0    0  23.3  0.672  32       1\n",
            "3   1   89  66  23   94  28.1  0.167  21       0\n",
            "4   0  137  40  35  168  43.1  2.288  33       1\n"
          ]
        }
      ]
    },
    {
      "cell_type": "code",
      "source": [
        "features = df.iloc[:,0:8]\n",
        "scaler = StandardScaler()\n",
        "scaler.fit(features)\n",
        "print(features.head())"
      ],
      "metadata": {
        "colab": {
          "base_uri": "https://localhost:8080/"
        },
        "id": "HdjdwO6FUCfZ",
        "outputId": "7c5a42a1-3ed5-4435-a148-ed22ee529d90"
      },
      "execution_count": null,
      "outputs": [
        {
          "output_type": "stream",
          "name": "stdout",
          "text": [
            "   X1   X2  X3  X4   X5    X6     X7  X8\n",
            "0   6  148  72  35    0  33.6  0.627  50\n",
            "1   1   85  66  29    0  26.6  0.351  31\n",
            "2   8  183  64   0    0  23.3  0.672  32\n",
            "3   1   89  66  23   94  28.1  0.167  21\n",
            "4   0  137  40  35  168  43.1  2.288  33\n"
          ]
        }
      ]
    },
    {
      "cell_type": "code",
      "source": [
        "\n",
        "feature_means = pd.DataFrame()\n",
        "for c, rows in df.groupby('target'):\n",
        "  if c == 'target':\n",
        "    break\n",
        "  else:\n",
        "    feature_means[c] = rows.mean()\n",
        "\n",
        "feature_means = feature_means.drop(feature_means.index[-1])\n",
        "feature_means"
      ],
      "metadata": {
        "colab": {
          "base_uri": "https://localhost:8080/",
          "height": 300
        },
        "id": "BsITRPR_VSlU",
        "outputId": "2b74cf0b-5267-4e74-9221-b4f8161d3fab"
      },
      "execution_count": null,
      "outputs": [
        {
          "output_type": "execute_result",
          "data": {
            "text/plain": [
              "             0           1\n",
              "X1    3.298000    4.865672\n",
              "X2  109.980000  141.257463\n",
              "X3   68.184000   70.824627\n",
              "X4   19.664000   22.164179\n",
              "X5   68.792000  100.335821\n",
              "X6   30.304200   35.142537\n",
              "X7    0.429734    0.550500\n",
              "X8   31.190000   37.067164"
            ],
            "text/html": [
              "\n",
              "  <div id=\"df-24092807-fb66-41fb-a778-2b36342f5739\">\n",
              "    <div class=\"colab-df-container\">\n",
              "      <div>\n",
              "<style scoped>\n",
              "    .dataframe tbody tr th:only-of-type {\n",
              "        vertical-align: middle;\n",
              "    }\n",
              "\n",
              "    .dataframe tbody tr th {\n",
              "        vertical-align: top;\n",
              "    }\n",
              "\n",
              "    .dataframe thead th {\n",
              "        text-align: right;\n",
              "    }\n",
              "</style>\n",
              "<table border=\"1\" class=\"dataframe\">\n",
              "  <thead>\n",
              "    <tr style=\"text-align: right;\">\n",
              "      <th></th>\n",
              "      <th>0</th>\n",
              "      <th>1</th>\n",
              "    </tr>\n",
              "  </thead>\n",
              "  <tbody>\n",
              "    <tr>\n",
              "      <th>X1</th>\n",
              "      <td>3.298000</td>\n",
              "      <td>4.865672</td>\n",
              "    </tr>\n",
              "    <tr>\n",
              "      <th>X2</th>\n",
              "      <td>109.980000</td>\n",
              "      <td>141.257463</td>\n",
              "    </tr>\n",
              "    <tr>\n",
              "      <th>X3</th>\n",
              "      <td>68.184000</td>\n",
              "      <td>70.824627</td>\n",
              "    </tr>\n",
              "    <tr>\n",
              "      <th>X4</th>\n",
              "      <td>19.664000</td>\n",
              "      <td>22.164179</td>\n",
              "    </tr>\n",
              "    <tr>\n",
              "      <th>X5</th>\n",
              "      <td>68.792000</td>\n",
              "      <td>100.335821</td>\n",
              "    </tr>\n",
              "    <tr>\n",
              "      <th>X6</th>\n",
              "      <td>30.304200</td>\n",
              "      <td>35.142537</td>\n",
              "    </tr>\n",
              "    <tr>\n",
              "      <th>X7</th>\n",
              "      <td>0.429734</td>\n",
              "      <td>0.550500</td>\n",
              "    </tr>\n",
              "    <tr>\n",
              "      <th>X8</th>\n",
              "      <td>31.190000</td>\n",
              "      <td>37.067164</td>\n",
              "    </tr>\n",
              "  </tbody>\n",
              "</table>\n",
              "</div>\n",
              "      <button class=\"colab-df-convert\" onclick=\"convertToInteractive('df-24092807-fb66-41fb-a778-2b36342f5739')\"\n",
              "              title=\"Convert this dataframe to an interactive table.\"\n",
              "              style=\"display:none;\">\n",
              "        \n",
              "  <svg xmlns=\"http://www.w3.org/2000/svg\" height=\"24px\"viewBox=\"0 0 24 24\"\n",
              "       width=\"24px\">\n",
              "    <path d=\"M0 0h24v24H0V0z\" fill=\"none\"/>\n",
              "    <path d=\"M18.56 5.44l.94 2.06.94-2.06 2.06-.94-2.06-.94-.94-2.06-.94 2.06-2.06.94zm-11 1L8.5 8.5l.94-2.06 2.06-.94-2.06-.94L8.5 2.5l-.94 2.06-2.06.94zm10 10l.94 2.06.94-2.06 2.06-.94-2.06-.94-.94-2.06-.94 2.06-2.06.94z\"/><path d=\"M17.41 7.96l-1.37-1.37c-.4-.4-.92-.59-1.43-.59-.52 0-1.04.2-1.43.59L10.3 9.45l-7.72 7.72c-.78.78-.78 2.05 0 2.83L4 21.41c.39.39.9.59 1.41.59.51 0 1.02-.2 1.41-.59l7.78-7.78 2.81-2.81c.8-.78.8-2.07 0-2.86zM5.41 20L4 18.59l7.72-7.72 1.47 1.35L5.41 20z\"/>\n",
              "  </svg>\n",
              "      </button>\n",
              "      \n",
              "  <style>\n",
              "    .colab-df-container {\n",
              "      display:flex;\n",
              "      flex-wrap:wrap;\n",
              "      gap: 12px;\n",
              "    }\n",
              "\n",
              "    .colab-df-convert {\n",
              "      background-color: #E8F0FE;\n",
              "      border: none;\n",
              "      border-radius: 50%;\n",
              "      cursor: pointer;\n",
              "      display: none;\n",
              "      fill: #1967D2;\n",
              "      height: 32px;\n",
              "      padding: 0 0 0 0;\n",
              "      width: 32px;\n",
              "    }\n",
              "\n",
              "    .colab-df-convert:hover {\n",
              "      background-color: #E2EBFA;\n",
              "      box-shadow: 0px 1px 2px rgba(60, 64, 67, 0.3), 0px 1px 3px 1px rgba(60, 64, 67, 0.15);\n",
              "      fill: #174EA6;\n",
              "    }\n",
              "\n",
              "    [theme=dark] .colab-df-convert {\n",
              "      background-color: #3B4455;\n",
              "      fill: #D2E3FC;\n",
              "    }\n",
              "\n",
              "    [theme=dark] .colab-df-convert:hover {\n",
              "      background-color: #434B5C;\n",
              "      box-shadow: 0px 1px 3px 1px rgba(0, 0, 0, 0.15);\n",
              "      filter: drop-shadow(0px 1px 2px rgba(0, 0, 0, 0.3));\n",
              "      fill: #FFFFFF;\n",
              "    }\n",
              "  </style>\n",
              "\n",
              "      <script>\n",
              "        const buttonEl =\n",
              "          document.querySelector('#df-24092807-fb66-41fb-a778-2b36342f5739 button.colab-df-convert');\n",
              "        buttonEl.style.display =\n",
              "          google.colab.kernel.accessAllowed ? 'block' : 'none';\n",
              "\n",
              "        async function convertToInteractive(key) {\n",
              "          const element = document.querySelector('#df-24092807-fb66-41fb-a778-2b36342f5739');\n",
              "          const dataTable =\n",
              "            await google.colab.kernel.invokeFunction('convertToInteractive',\n",
              "                                                     [key], {});\n",
              "          if (!dataTable) return;\n",
              "\n",
              "          const docLinkHtml = 'Like what you see? Visit the ' +\n",
              "            '<a target=\"_blank\" href=https://colab.research.google.com/notebooks/data_table.ipynb>data table notebook</a>'\n",
              "            + ' to learn more about interactive tables.';\n",
              "          element.innerHTML = '';\n",
              "          dataTable['output_type'] = 'display_data';\n",
              "          await google.colab.output.renderOutput(dataTable, element);\n",
              "          const docLink = document.createElement('div');\n",
              "          docLink.innerHTML = docLinkHtml;\n",
              "          element.appendChild(docLink);\n",
              "        }\n",
              "      </script>\n",
              "    </div>\n",
              "  </div>\n",
              "  "
            ]
          },
          "metadata": {},
          "execution_count": 6
        }
      ]
    },
    {
      "cell_type": "code",
      "source": [
        "within_matrix = np.zeros((8,8))\n",
        "\n",
        "for c,rows in df.groupby('target'):\n",
        "  rows = rows.drop(['target'], axis =1)\n",
        "  s = np.zeros((8,8))\n",
        "  for index, row in rows.iterrows():\n",
        "    x, mc = row.values.reshape(8,1), feature_means[c].values.reshape(8,1)\n",
        "    s += (x - mc).dot((x - mc).T)\n",
        "  within_matrix += s\n",
        "\n",
        "print(within_matrix)\n",
        "\n"
      ],
      "metadata": {
        "colab": {
          "base_uri": "https://localhost:8080/"
        },
        "id": "z3-Wzxv9WnZb",
        "outputId": "1a73790f-b042-4aee-f733-3dab68792408"
      },
      "execution_count": null,
      "outputs": [
        {
          "output_type": "stream",
          "name": "stdout",
          "text": [
            "[[ 8.27976218e+03  2.14224866e+03  6.34527057e+03 -4.05102555e+03\n",
            "  -3.05299184e+04 -9.63094457e+02 -6.17383660e+01  1.49371079e+04]\n",
            " [ 2.14224866e+03  6.13375035e+05  5.80179407e+04  8.78231164e+03\n",
            "   7.64314748e+05  1.63385069e+04  4.56836840e+02  4.39232657e+04]\n",
            " [ 6.34527057e+03  5.80179407e+04  2.86137829e+05  4.79586284e+04\n",
            "   1.37622920e+05  3.07554129e+04  1.47335972e+02  3.91116767e+04]\n",
            " [-4.05102555e+03  8.78231164e+03  4.79586284e+04  1.94090328e+05\n",
            "   6.02125280e+05  3.57591340e+04  6.92946312e+02 -1.89630352e+04]\n",
            " [-3.05299184e+04  7.64314748e+05  1.37622920e+05  6.02125280e+05\n",
            "   1.00130561e+07  1.11258608e+05  4.75547934e+03 -7.61752848e+04]\n",
            " [-9.63094457e+02  1.63385069e+04  3.07554129e+04  3.57591340e+04\n",
            "   1.11258608e+05  4.35922363e+04  1.79850059e+02 -2.38406467e+03]\n",
            " [-6.17383660e+01  4.56836840e+02  1.47335972e+02  6.92946312e+02\n",
            "   4.75547934e+03  1.79850059e+02  8.16555366e+01 -2.35367300e+01]\n",
            " [ 1.49371079e+04  4.39232657e+04  3.91116767e+04 -1.89630352e+04\n",
            "  -7.61752848e+04 -2.38406467e+03 -2.35367300e+01  1.00051741e+05]]\n"
          ]
        }
      ]
    },
    {
      "cell_type": "code",
      "source": [
        "feature_means_2 = features.mean()\n",
        "between_matrix = np.zeros((8,8))\n",
        "\n",
        "for column in feature_means:\n",
        "  n = len(df.loc[df['target'] == column].index)\n",
        "  mc, m = feature_means[c].values.reshape(8,1), feature_means_2.values.reshape(8,1)\n",
        "  between_matrix += n* (mc-m).dot((mc-m).T)\n",
        "\n",
        "print(between_matrix)"
      ],
      "metadata": {
        "colab": {
          "base_uri": "https://localhost:8080/"
        },
        "id": "Mu7uoufiIisY",
        "outputId": "6ae90498-9b9c-48e5-ae9a-fcc0ebac446d"
      },
      "execution_count": null,
      "outputs": [
        {
          "output_type": "stream",
          "name": "stdout",
          "text": [
            "[[7.99998169e+02 1.59611951e+04 1.34753771e+03 1.27586585e+03\n",
            "  1.60971203e+04 2.46905085e+03 6.16280708e+01 2.99917435e+03]\n",
            " [1.59611951e+04 3.18450414e+05 2.68854519e+04 2.54554878e+04\n",
            "  3.21162331e+05 4.92613655e+04 1.22957489e+03 5.98381456e+04]\n",
            " [1.34753771e+03 2.68854519e+04 2.26982755e+03 2.14910160e+03\n",
            "  2.71144078e+04 4.15893343e+03 1.03807924e+02 5.05188725e+03]\n",
            " [1.27586585e+03 2.54554878e+04 2.14910160e+03 2.03479673e+03\n",
            "  2.56722662e+04 3.93773107e+03 9.82866633e+01 4.78319110e+03]\n",
            " [1.60971203e+04 3.21162331e+05 2.71144078e+04 2.56722662e+04\n",
            "  3.23897343e+05 4.96808742e+04 1.24004592e+03 6.03477260e+04]\n",
            " [2.46905085e+03 4.92613655e+04 4.15893343e+03 3.93773107e+03\n",
            "  4.96808742e+04 7.62028254e+03 1.90203986e+02 9.25641365e+03]\n",
            " [6.16280708e+01 1.22957489e+03 1.03807924e+02 9.82866633e+01\n",
            "  1.24004592e+03 1.90203986e+02 4.74753475e+00 2.31042191e+02]\n",
            " [2.99917435e+03 5.98381456e+04 5.05188725e+03 4.78319110e+03\n",
            "  6.03477260e+04 9.25641365e+03 2.31042191e+02 1.12438342e+04]]\n"
          ]
        }
      ]
    },
    {
      "cell_type": "code",
      "source": [
        "eigen_values, eigen_vectors = np.linalg.eig(np.linalg.inv(within_matrix).dot(between_matrix))\n"
      ],
      "metadata": {
        "id": "U6A7yPWLK-ss"
      },
      "execution_count": null,
      "outputs": []
    },
    {
      "cell_type": "code",
      "source": [
        "eigen_pairs = [(np.abs(eigen_values[i]), eigen_vectors[:,i]) for i in range(len(eigen_values))]\n",
        "eigen_pairs = sorted(eigen_pairs, key=lambda x: x[0], reverse=True)\n",
        "for pair in eigen_pairs:\n",
        "  print(pair[0])"
      ],
      "metadata": {
        "colab": {
          "base_uri": "https://localhost:8080/"
        },
        "id": "yMA6dKgtLguV",
        "outputId": "79f24124-4d0d-4671-ab1a-b0e5978e2c2b"
      },
      "execution_count": null,
      "outputs": [
        {
          "output_type": "stream",
          "name": "stdout",
          "text": [
            "0.8120175307700177\n",
            "1.1102230246251565e-16\n",
            "5.4882138454721556e-17\n",
            "5.137033490352365e-17\n",
            "1.8678648072561034e-17\n",
            "9.459709247625177e-18\n",
            "1.951477568157298e-18\n",
            "1.951477568157298e-18\n"
          ]
        }
      ]
    },
    {
      "cell_type": "code",
      "source": [
        "sum_of_eigen_values = sum(eigen_values)\n",
        "print('Explained Variance')\n",
        "for i, pair in enumerate(eigen_pairs):\n",
        "   print('Eigenvector {}: {}'.format(i, (pair[0]/sum_of_eigen_values).real))"
      ],
      "metadata": {
        "colab": {
          "base_uri": "https://localhost:8080/"
        },
        "id": "OpcnMX5VLq3P",
        "outputId": "3e5f7f2a-090c-42b6-ff76-e50ece4f3eaa"
      },
      "execution_count": null,
      "outputs": [
        {
          "output_type": "stream",
          "name": "stdout",
          "text": [
            "Explained Variance\n",
            "Eigenvector 0: 1.0\n",
            "Eigenvector 1: 1.3672402165657156e-16\n",
            "Eigenvector 2: 6.75873812757196e-17\n",
            "Eigenvector 3: 6.326259342555122e-17\n",
            "Eigenvector 4: 2.3002764552199384e-17\n",
            "Eigenvector 5: 1.1649636724781978e-17\n",
            "Eigenvector 6: 2.40324561257533e-18\n",
            "Eigenvector 7: 2.40324561257533e-18\n"
          ]
        }
      ]
    },
    {
      "cell_type": "code",
      "source": [
        "W_matrix = np.hstack((eigen_pairs[0][1].reshape(8,1), eigen_pairs[1][1].reshape(8,1))).real"
      ],
      "metadata": {
        "id": "xVB9nRuqNE58"
      },
      "execution_count": null,
      "outputs": []
    },
    {
      "cell_type": "code",
      "source": [
        "X_lda = np.array(features.dot(W_matrix))\n",
        "print(X_lda)"
      ],
      "metadata": {
        "colab": {
          "base_uri": "https://localhost:8080/"
        },
        "id": "rhpZ6qksNKob",
        "outputId": "31a649b7-4559-4853-a5c2-6eef0c5c6e55"
      },
      "execution_count": null,
      "outputs": [
        {
          "output_type": "stream",
          "name": "stdout",
          "text": [
            "[[-10.07678175   1.51615942]\n",
            " [ -5.75317233   2.92765022]\n",
            " [-10.64342878   0.18802513]\n",
            " ...\n",
            " [ -7.33820921   0.56801371]\n",
            " [ -8.03029797   4.42290027]\n",
            " [ -6.17078849   3.20187338]]\n"
          ]
        }
      ]
    },
    {
      "cell_type": "code",
      "source": [
        "le = LabelEncoder()\n",
        "y = le.fit_transform(df['target'])"
      ],
      "metadata": {
        "id": "hr4ZR0oOPyoV"
      },
      "execution_count": null,
      "outputs": []
    },
    {
      "cell_type": "code",
      "source": [
        "plt.xlabel('LD1')\n",
        "plt.ylabel('LD2')\n",
        "plt.scatter(\n",
        "    X_lda[:,0],\n",
        "    X_lda[:,1],\n",
        "    c=y,\n",
        "    cmap='rainbow',\n",
        "    alpha=0.7,\n",
        "    edgecolors='b'\n",
        ")"
      ],
      "metadata": {
        "colab": {
          "base_uri": "https://localhost:8080/",
          "height": 297
        },
        "id": "CjRl_EhvNf7U",
        "outputId": "296154aa-cf79-433e-9920-13a7a82df204"
      },
      "execution_count": null,
      "outputs": [
        {
          "output_type": "execute_result",
          "data": {
            "text/plain": [
              "<matplotlib.collections.PathCollection at 0x7f908623eb20>"
            ]
          },
          "metadata": {},
          "execution_count": 25
        },
        {
          "output_type": "display_data",
          "data": {
            "text/plain": [
              "<Figure size 432x288 with 1 Axes>"
            ],
            "image/png": "[encoded data removed]"
          },
          "metadata": {
            "needs_background": "light"
          }
        }
      ]
    },
    {
      "cell_type": "code",
      "source": [],
      "metadata": {
        "id": "WxAAM1jSQAn0"
      },
      "execution_count": null,
      "outputs": []
    }
  ]
}
