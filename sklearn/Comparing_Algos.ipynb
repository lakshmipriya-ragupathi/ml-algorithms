{
  "nbformat": 4,
  "nbformat_minor": 0,
  "metadata": {
    "colab": {
      "provenance": [],
      "collapsed_sections": []
    },
    "kernelspec": {
      "name": "python3",
      "display_name": "Python 3"
    },
    "language_info": {
      "name": "python"
    }
  },
  "cells": [
    {
      "cell_type": "markdown",
      "source": [
        "## **GET DATA**"
      ],
      "metadata": {
        "id": "Iwc8eKUGuJuo"
      }
    },
    {
      "cell_type": "code",
      "source": [
        "import pandas as pd\n",
        "import numpy as np\n",
        "import seaborn as sns\n",
        "import matplotlib.pyplot as plt\n",
        "from matplotlib.pyplot import pie, show\n",
        "from google.colab import drive\n",
        "from sklearn.model_selection import train_test_split\n",
        "from sklearn.preprocessing import LabelEncoder\n",
        "from sklearn.metrics import confusion_matrix\n",
        "\n",
        "path = \"/content/drive/MyDrive/lab13/bill_authentication.csv\"\n",
        "df = pd.read_csv(path)\n",
        "print(df)\n"
      ],
      "metadata": {
        "colab": {
          "base_uri": "https://localhost:8080/"
        },
        "id": "FfBfSgziuHdf",
        "outputId": "f3a5b118-d182-459b-c2cb-1bcd7ec78e35"
      },
      "execution_count": 3,
      "outputs": [
        {
          "output_type": "stream",
          "name": "stdout",
          "text": [
            "      Variance  Skewness  Curtosis  Entropy  Class\n",
            "0      3.62160   8.66610   -2.8073 -0.44699      0\n",
            "1      4.54590   8.16740   -2.4586 -1.46210      0\n",
            "2      3.86600  -2.63830    1.9242  0.10645      0\n",
            "3      3.45660   9.52280   -4.0112 -3.59440      0\n",
            "4      0.32924  -4.45520    4.5718 -0.98880      0\n",
            "...        ...       ...       ...      ...    ...\n",
            "1367   0.40614   1.34920   -1.4501 -0.55949      1\n",
            "1368  -1.38870  -4.87730    6.4774  0.34179      1\n",
            "1369  -3.75030 -13.45860   17.5932 -2.77710      1\n",
            "1370  -3.56370  -8.38270   12.3930 -1.28230      1\n",
            "1371  -2.54190  -0.65804    2.6842  1.19520      1\n",
            "\n",
            "[1372 rows x 5 columns]\n"
          ]
        }
      ]
    },
    {
      "cell_type": "code",
      "source": [
        "from google.colab import drive\n",
        "drive.mount('/content/drive')"
      ],
      "metadata": {
        "colab": {
          "base_uri": "https://localhost:8080/"
        },
        "id": "5UBwcgrMua0K",
        "outputId": "a0d408bb-f35a-48c5-ae14-07c419b08ac5"
      },
      "execution_count": 2,
      "outputs": [
        {
          "output_type": "stream",
          "name": "stdout",
          "text": [
            "Mounted at /content/drive\n"
          ]
        }
      ]
    },
    {
      "cell_type": "markdown",
      "source": [
        "## **Data Cleaning**"
      ],
      "metadata": {
        "id": "sygi42YMAN_D"
      }
    },
    {
      "cell_type": "code",
      "source": [
        "for column in df:\n",
        "  if column != 'Class':\n",
        "    print('Box plot for column ', column)\n",
        "    plt.title(column)\n",
        "    plt.boxplot(df[column])\n",
        "    plt.show()\n",
        "    q1 = np.percentile(df[column], 25, interpolation = 'midpoint')\n",
        "    q3 = np.percentile(df[column], 75, interpolation = 'midpoint')\n",
        "    iqr = q3-q1\n",
        "    upper_bound = q3+(1.5*iqr)\n",
        "    lower_bound = q1-(1.5*iqr)\n",
        "    df1 = df.loc[df[column] >= lower_bound]\n",
        "    df2 = df1.loc[df1[column] <= upper_bound]\n",
        "    cur_low_df = df2.loc[df2[column] <= lower_bound]\n",
        "    cur_high_df = df2.loc[df2[column] >= upper_bound]\n",
        "    print(\"Revised box plot : \")\n",
        "    plt.title(column)\n",
        "    plt.boxplot(df2[column])\n",
        "    plt.show()\n",
        "    print(\"Low outliers count : \", len(cur_low_df))\n",
        "    print(\"High outliers count: \", len(cur_high_df))\n",
        "    print()\n",
        "    print()"
      ],
      "metadata": {
        "colab": {
          "base_uri": "https://localhost:8080/",
          "height": 1000
        },
        "id": "TSSSlPMbARr0",
        "outputId": "c3226419-7ab7-4ca3-d507-31c628d28d83"
      },
      "execution_count": 4,
      "outputs": [
        {
          "output_type": "stream",
          "name": "stdout",
          "text": [
            "Box plot for column  Variance\n"
          ]
        },
        {
          "output_type": "display_data",
          "data": {
            "text/plain": [
              "<Figure size 432x288 with 1 Axes>"
            ],
            "image/png": "[encoded data removed]"
          },
          "metadata": {
            "needs_background": "light"
          }
        },
        {
          "output_type": "stream",
          "name": "stdout",
          "text": [
            "Revised box plot : \n"
          ]
        },
        {
          "output_type": "display_data",
          "data": {
            "text/plain": [
              "<Figure size 432x288 with 1 Axes>"
            ],
            "image/png": "[encoded data removed]"
          },
          "metadata": {
            "needs_background": "light"
          }
        },
        {
          "output_type": "stream",
          "name": "stdout",
          "text": [
            "Low outliers count :  0\n",
            "High outliers count:  0\n",
            "\n",
            "\n",
            "Box plot for column  Skewness\n"
          ]
        },
        {
          "output_type": "display_data",
          "data": {
            "text/plain": [
              "<Figure size 432x288 with 1 Axes>"
            ],
            "image/png": "[encoded data removed]"
          },
          "metadata": {
            "needs_background": "light"
          }
        },
        {
          "output_type": "stream",
          "name": "stdout",
          "text": [
            "Revised box plot : \n"
          ]
        },
        {
          "output_type": "display_data",
          "data": {
            "text/plain": [
              "<Figure size 432x288 with 1 Axes>"
            ],
            "image/png": "[encoded data removed]"
          },
          "metadata": {
            "needs_background": "light"
          }
        },
        {
          "output_type": "stream",
          "name": "stdout",
          "text": [
            "Low outliers count :  0\n",
            "High outliers count:  0\n",
            "\n",
            "\n",
            "Box plot for column  Curtosis\n"
          ]
        },
        {
          "output_type": "display_data",
          "data": {
            "text/plain": [
              "<Figure size 432x288 with 1 Axes>"
            ],
            "image/png": "[encoded data removed]"
          },
          "metadata": {
            "needs_background": "light"
          }
        },
        {
          "output_type": "stream",
          "name": "stdout",
          "text": [
            "Revised box plot : \n"
          ]
        },
        {
          "output_type": "display_data",
          "data": {
            "text/plain": [
              "<Figure size 432x288 with 1 Axes>"
            ],
            "image/png": "[encoded data removed]"
          },
          "metadata": {
            "needs_background": "light"
          }
        },
        {
          "output_type": "stream",
          "name": "stdout",
          "text": [
            "Low outliers count :  0\n",
            "High outliers count:  0\n",
            "\n",
            "\n",
            "Box plot for column  Entropy\n"
          ]
        },
        {
          "output_type": "display_data",
          "data": {
            "text/plain": [
              "<Figure size 432x288 with 1 Axes>"
            ],
            "image/png": "[encoded data removed]"
          },
          "metadata": {
            "needs_background": "light"
          }
        },
        {
          "output_type": "stream",
          "name": "stdout",
          "text": [
            "Revised box plot : \n"
          ]
        },
        {
          "output_type": "display_data",
          "data": {
            "text/plain": [
              "<Figure size 432x288 with 1 Axes>"
            ],
            "image/png": "[encoded data removed]"
          },
          "metadata": {
            "needs_background": "light"
          }
        },
        {
          "output_type": "stream",
          "name": "stdout",
          "text": [
            "Low outliers count :  0\n",
            "High outliers count:  0\n",
            "\n",
            "\n"
          ]
        }
      ]
    },
    {
      "cell_type": "markdown",
      "source": [
        "## **NAIVE BAYES**"
      ],
      "metadata": {
        "id": "NFhf3N1Dt9N1"
      }
    },
    {
      "cell_type": "code",
      "source": [
        "feature_cols = ['Variance', 'Skewness', 'Curtosis','Entropy']\n",
        "x_nb = df2[feature_cols]\n",
        "y = np.array(df2['Class']).reshape(-1,1)\n",
        "\n",
        "x_nb_train, x_nb_test, y_nb_train, y_nb_test = train_test_split(x_nb, y, test_size = 0.2, random_state = 1)\n",
        "\n",
        "from sklearn.naive_bayes import GaussianNB\n",
        "gnb_nb = GaussianNB()\n",
        "gnb_nb.fit(x_nb_train, y_nb_train.ravel())\n",
        "\n",
        "y_nb_pred = gnb_nb.predict(x_nb_test)\n",
        "\n",
        "from sklearn import metrics\n",
        "nb_accuracy = metrics.accuracy_score(y_nb_test, y_nb_pred)\n",
        "nb_precision = metrics.precision_score(y_nb_test, y_nb_pred)\n",
        "nb_recall = metrics.recall_score(y_nb_test, y_nb_pred)\n",
        "nb_confusion_matrix = confusion_matrix(y_nb_test, y_nb_pred)\n",
        "\n",
        "print(\"Accuracy based on Naive Bayes : \", \"{0:.2f}\".format(nb_accuracy*100), \"%\")\n",
        "print(\"Precision based on Naive Bayes : \", \"{0:.2f}\".format(nb_precision*100), \"%\")\n",
        "print(\"Recall based on Naive Bayes : \", \"{0:.2f}\".format(nb_recall*100), \"%\")\n",
        "print(\"Confusion Matrix based on Naive Bayes : \")\n",
        "print(nb_confusion_matrix)\n",
        "\n",
        "import time\n",
        "start_time = time.time()\n",
        "print(\"--- %s seconds ---\" % (time.time() - start_time))\n",
        "nb_Time = (time.time() - start_time)"
      ],
      "metadata": {
        "colab": {
          "base_uri": "https://localhost:8080/"
        },
        "id": "2uInmc0r_gQz",
        "outputId": "42490627-19ee-4f6a-be30-e1999ac6b4f8"
      },
      "execution_count": 5,
      "outputs": [
        {
          "output_type": "stream",
          "name": "stdout",
          "text": [
            "Accuracy based on Naive Bayes :  85.45 %\n",
            "Precision based on Naive Bayes :  84.11 %\n",
            "Recall based on Naive Bayes :  80.36 %\n",
            "Confusion Matrix based on Naive Bayes : \n",
            "[[139  17]\n",
            " [ 22  90]]\n",
            "--- 3.647804260253906e-05 seconds ---\n"
          ]
        }
      ]
    },
    {
      "cell_type": "markdown",
      "source": [
        "## **Decision Tree**"
      ],
      "metadata": {
        "id": "zQOuL5MA2Vei"
      }
    },
    {
      "cell_type": "code",
      "source": [
        "feature_cols = ['Variance', 'Skewness', 'Curtosis','Entropy']\n",
        "x_dt = df2[feature_cols]\n",
        "y = np.array(df2['Class']).reshape(-1,1)\n",
        "\n",
        "x_dt_train, x_dt_test, y_dt_train, y_dt_test = train_test_split(x_dt, y, test_size = 0.2, random_state = 1)\n",
        "\n",
        "\n",
        "from sklearn.tree import DecisionTreeClassifier\n",
        "\n",
        "dt = DecisionTreeClassifier()\n",
        "dt = dt.fit(x_dt_train, y_dt_train)\n",
        "\n",
        "y_dt_pred = dt.predict(x_dt_test)\n",
        "\n",
        "from sklearn import metrics\n",
        "dt_accuracy = metrics.accuracy_score(y_dt_test, y_dt_pred)\n",
        "dt_precision = metrics.precision_score(y_dt_test, y_dt_pred)\n",
        "dt_recall = metrics.recall_score(y_dt_test, y_dt_pred)\n",
        "dt_confusion_matrix = confusion_matrix(y_dt_test, y_dt_pred)\n",
        "\n",
        "print(\"Accuracy based on Decision Tree : \", \"{0:.2f}\".format(dt_accuracy*100), \"%\")\n",
        "print(\"Precision based on Decision Tree : \", \"{0:.2f}\".format(dt_precision*100), \"%\")\n",
        "print(\"Recall based on Decision Tree : \", \"{0:.2f}\".format(dt_recall*100), \"%\")\n",
        "print(\"Confusion Matrix based on Decision Tree : \")\n",
        "print(dt_confusion_matrix)\n",
        "\n",
        "import time\n",
        "start_time = time.time()\n",
        "print(\"--- %s seconds ---\" % (time.time() - start_time))\n",
        "\n",
        "dt_Time = (time.time() - start_time)"
      ],
      "metadata": {
        "colab": {
          "base_uri": "https://localhost:8080/"
        },
        "id": "3nFordOg2j3o",
        "outputId": "d447abbd-4053-46e4-ced5-8fdeaede264f"
      },
      "execution_count": 6,
      "outputs": [
        {
          "output_type": "stream",
          "name": "stdout",
          "text": [
            "Accuracy based on Decision Tree :  98.88 %\n",
            "Precision based on Decision Tree :  97.39 %\n",
            "Recall based on Decision Tree :  100.00 %\n",
            "Confusion Matrix based on Decision Tree : \n",
            "[[153   3]\n",
            " [  0 112]]\n",
            "--- 3.552436828613281e-05 seconds ---\n"
          ]
        }
      ]
    },
    {
      "cell_type": "markdown",
      "source": [
        "## **Random Forest**"
      ],
      "metadata": {
        "id": "4NmsUJGb4hGf"
      }
    },
    {
      "cell_type": "code",
      "source": [
        "feature_cols = ['Variance', 'Skewness', 'Curtosis','Entropy']\n",
        "x_rf = df2[feature_cols]\n",
        "y = np.array(df2['Class']).reshape(-1,1)\n",
        "\n",
        "x_rf_train, x_rf_test, y_rf_train, y_rf_test = train_test_split(x_rf, y, test_size = 0.2, random_state = 1)\n",
        "\n",
        "from sklearn.ensemble import RandomForestClassifier\n",
        "\n",
        "rf = RandomForestClassifier(n_estimators=100)\n",
        "rf.fit(x_rf_train, y_rf_train.ravel())\n",
        "y_rf_pred = rf.predict(x_rf_test)\n",
        "\n",
        "\n",
        "from sklearn import metrics\n",
        "rf_accuracy = metrics.accuracy_score(y_rf_test, y_rf_pred)\n",
        "rf_precision = metrics.precision_score(y_rf_test, y_rf_pred)\n",
        "rf_recall = metrics.recall_score(y_rf_test, y_rf_pred)\n",
        "rf_confusion_matrix = confusion_matrix(y_rf_test, y_rf_pred)\n",
        "\n",
        "print(\"Accuracy based on Random Forest : \", \"{0:.2f}\".format(rf_accuracy*100), \"%\")\n",
        "print(\"Precision based on Random Forest : \", \"{0:.2f}\".format(rf_precision*100), \"%\")\n",
        "print(\"Recall based on Random Forest : \", \"{0:.2f}\".format(rf_recall*100), \"%\")\n",
        "print(\"Confusion Matrix based on Random Forest : \")\n",
        "print(rf_confusion_matrix)\n",
        "\n",
        "import time\n",
        "start_time = time.time()\n",
        "print(\"--- %s seconds ---\" % (time.time() - start_time))\n",
        "\n",
        "rf_Time = (time.time() - start_time)"
      ],
      "metadata": {
        "colab": {
          "base_uri": "https://localhost:8080/"
        },
        "id": "FF-MI7pr4lMe",
        "outputId": "8835e553-967c-49ab-a34b-380509754e91"
      },
      "execution_count": 7,
      "outputs": [
        {
          "output_type": "stream",
          "name": "stdout",
          "text": [
            "Accuracy based on Random Forest :  99.63 %\n",
            "Precision based on Random Forest :  99.12 %\n",
            "Recall based on Random Forest :  100.00 %\n",
            "Confusion Matrix based on Random Forest : \n",
            "[[155   1]\n",
            " [  0 112]]\n",
            "--- 3.409385681152344e-05 seconds ---\n"
          ]
        }
      ]
    },
    {
      "cell_type": "markdown",
      "source": [
        "## **Comparative Analysis**"
      ],
      "metadata": {
        "id": "DdAtNGbB7tiA"
      }
    },
    {
      "cell_type": "code",
      "source": [
        "ca = {'Type':['Naive Bayes', 'Decision Tree', 'Random Forest'], 'Accuracy' : [\"{0:.2f}\".format(nb_accuracy*100), \"{0:.2f}\".format(dt_accuracy*100), \"{0:.2f}\".format(rf_accuracy*100) ], 'Precision' : [\"{0:.2f}\".format(nb_precision*100), \"{0:.2f}\".format(dt_precision*100) , \"{0:.2f}\".format(rf_precision*100) ], 'Recall' : [\"{0:.2f}\".format(nb_recall*100), \"{0:.2f}\".format(dt_recall*100) , \"{0:.2f}\".format(rf_recall*100)], \"Time\" : [nb_Time, dt_Time, rf_Time]}\n",
        "ca_df = pd.DataFrame(ca)\n",
        "print(ca_df)\n",
        "print()\n",
        "plt.title(\"Accuracy comparison\")\n",
        "plt.bar(ca_df['Type'], [float(x) for x in ca_df['Accuracy']], label=\"Accuracy\", width = 0.4)\n",
        "plt.show()\n",
        "print()\n",
        "plt.title(\"Precision comparison\")\n",
        "plt.bar(ca_df['Type'], [float(x) for x in ca_df['Precision']], label=\"Precision\", width = 0.4, color = \"maroon\")\n",
        "plt.show()\n",
        "print()\n",
        "plt.title(\"Recall comparison\")\n",
        "plt.bar(ca_df['Type'], [float(x) for x in ca_df['Recall']], label=\"Recall\", width = 0.4, color = \"pink\")\n",
        "plt.show()\n",
        "print()\n",
        "plt.title(\"Time comparison\")\n",
        "plt.bar(ca_df['Type'], [float(x) for x in ca_df['Time']], label=\"Time\", width = 0.4, color = \"green\")\n",
        "plt.show()\n"
      ],
      "metadata": {
        "id": "AwojhOPQ7qHV",
        "colab": {
          "base_uri": "https://localhost:8080/",
          "height": 1000
        },
        "outputId": "438b389b-f0c5-4ae7-bd9e-f4105e3143e4"
      },
      "execution_count": 8,
      "outputs": [
        {
          "output_type": "stream",
          "name": "stdout",
          "text": [
            "            Type Accuracy Precision  Recall      Time\n",
            "0    Naive Bayes    85.45     84.11   80.36  0.000128\n",
            "1  Decision Tree    98.88     97.39  100.00  0.000128\n",
            "2  Random Forest    99.63     99.12  100.00  0.000123\n",
            "\n"
          ]
        },
        {
          "output_type": "display_data",
          "data": {
            "text/plain": [
              "<Figure size 432x288 with 1 Axes>"
            ],
            "image/png": "[encoded data removed]"
          },
          "metadata": {
            "needs_background": "light"
          }
        },
        {
          "output_type": "stream",
          "name": "stdout",
          "text": [
            "\n"
          ]
        },
        {
          "output_type": "display_data",
          "data": {
            "text/plain": [
              "<Figure size 432x288 with 1 Axes>"
            ],
            "image/png": "[encoded data removed]"
          },
          "metadata": {
            "needs_background": "light"
          }
        },
        {
          "output_type": "stream",
          "name": "stdout",
          "text": [
            "\n"
          ]
        },
        {
          "output_type": "display_data",
          "data": {
            "text/plain": [
              "<Figure size 432x288 with 1 Axes>"
            ],
            "image/png": "[encoded data removed]"
          },
          "metadata": {
            "needs_background": "light"
          }
        },
        {
          "output_type": "stream",
          "name": "stdout",
          "text": [
            "\n"
          ]
        },
        {
          "output_type": "display_data",
          "data": {
            "text/plain": [
              "<Figure size 432x288 with 1 Axes>"
            ],
            "image/png": "[encoded data removed]"
          },
          "metadata": {
            "needs_background": "light"
          }
        }
      ]
    }
  ]
}
